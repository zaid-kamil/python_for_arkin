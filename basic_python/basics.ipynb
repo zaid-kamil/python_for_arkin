{
 "metadata": {
  "language_info": {
   "codemirror_mode": {
    "name": "ipython",
    "version": 3
   },
   "file_extension": ".py",
   "mimetype": "text/x-python",
   "name": "python",
   "nbconvert_exporter": "python",
   "pygments_lexer": "ipython3",
   "version": "3.8.3-final"
  },
  "orig_nbformat": 2,
  "kernelspec": {
   "name": "python_defaultSpec_1600446931030",
   "display_name": "Python 3.8.3 64-bit"
  }
 },
 "nbformat": 4,
 "nbformat_minor": 2,
 "cells": [
  {
   "source": [
    "# displaying output\n",
    "print() -> the only function to display output in formatted manner"
   ],
   "cell_type": "markdown",
   "metadata": {}
  },
  {
   "cell_type": "code",
   "execution_count": 3,
   "metadata": {},
   "outputs": [
    {
     "output_type": "execute_result",
     "data": {
      "text/plain": "12"
     },
     "metadata": {},
     "execution_count": 3
    }
   ],
   "source": [
    "12"
   ]
  },
  {
   "cell_type": "code",
   "execution_count": 4,
   "metadata": {},
   "outputs": [
    {
     "output_type": "error",
     "ename": "NameError",
     "evalue": "name 'hey' is not defined",
     "traceback": [
      "\u001b[1;31m---------------------------------------------------------------------------\u001b[0m",
      "\u001b[1;31mNameError\u001b[0m                                 Traceback (most recent call last)",
      "\u001b[1;32m<ipython-input-4-7aea02175315>\u001b[0m in \u001b[0;36m<module>\u001b[1;34m\u001b[0m\n\u001b[1;32m----> 1\u001b[1;33m \u001b[0mhey\u001b[0m\u001b[1;33m\u001b[0m\u001b[1;33m\u001b[0m\u001b[0m\n\u001b[0m",
      "\u001b[1;31mNameError\u001b[0m: name 'hey' is not defined"
     ]
    }
   ],
   "source": [
    "hey"
   ]
  },
  {
   "cell_type": "code",
   "execution_count": 5,
   "metadata": {},
   "outputs": [
    {
     "output_type": "execute_result",
     "data": {
      "text/plain": "'this is sparta'"
     },
     "metadata": {},
     "execution_count": 5
    }
   ],
   "source": [
    "\"this is sparta\""
   ]
  },
  {
   "cell_type": "code",
   "execution_count": 6,
   "metadata": {},
   "outputs": [
    {
     "output_type": "execute_result",
     "data": {
      "text/plain": "'i know this is python'"
     },
     "metadata": {},
     "execution_count": 6
    }
   ],
   "source": [
    "'i know this is python'"
   ]
  },
  {
   "cell_type": "code",
   "execution_count": 7,
   "metadata": {
    "tags": []
   },
   "outputs": [
    {
     "output_type": "stream",
     "name": "stdout",
     "text": "this is an example for output\n"
    }
   ],
   "source": [
    "print(\"this is an example for output\")"
   ]
  },
  {
   "cell_type": "code",
   "execution_count": 8,
   "metadata": {
    "tags": []
   },
   "outputs": [
    {
     "output_type": "stream",
     "name": "stdout",
     "text": "3 the value is the result\n"
    }
   ],
   "source": [
    "print(1 + 2,'the value is the result')"
   ]
  },
  {
   "cell_type": "code",
   "execution_count": 9,
   "metadata": {
    "tags": []
   },
   "outputs": [
    {
     "output_type": "stream",
     "name": "stdout",
     "text": "Johnny johnny, yes papa\neating sugar, no papa\nokay\n"
    }
   ],
   "source": [
    "print('Johnny johnny, yes papa')\n",
    "print('eating sugar, no papa')\n",
    "print(\"okay\")"
   ]
  },
  {
   "cell_type": "code",
   "execution_count": 10,
   "metadata": {
    "tags": []
   },
   "outputs": [
    {
     "output_type": "stream",
     "name": "stdout",
     "text": "Johnny johnny, yes papa\neating sugar, no papa\nokay\n"
    }
   ],
   "source": [
    "print('Johnny johnny, yes papa\\neating sugar, no papa\\nokay')"
   ]
  },
  {
   "cell_type": "code",
   "execution_count": 11,
   "metadata": {},
   "outputs": [],
   "source": [
    "email = 'xaidmeta@gmail.com'"
   ]
  },
  {
   "cell_type": "code",
   "execution_count": 12,
   "metadata": {
    "tags": []
   },
   "outputs": [
    {
     "output_type": "stream",
     "name": "stdout",
     "text": "send me mails on: xaidmeta@gmail.com\n"
    }
   ],
   "source": [
    "print(\"send me mails on:\", email)"
   ]
  },
  {
   "cell_type": "code",
   "execution_count": 13,
   "metadata": {},
   "outputs": [],
   "source": [
    "name = input('enter your name->')"
   ]
  },
  {
   "cell_type": "code",
   "execution_count": 14,
   "metadata": {},
   "outputs": [],
   "source": [
    "x = 10\n",
    "y = 3.14"
   ]
  },
  {
   "cell_type": "code",
   "execution_count": 15,
   "metadata": {},
   "outputs": [],
   "source": [
    "# the basic datatypes\n",
    "x = 100 # int\n",
    "y = 100.10 # float\n",
    "z = 'zebra' # str\n",
    "a = True # bool\n",
    "b = None # none\n",
    "# the other 4 are"
   ]
  },
  {
   "source": [
    "# the datatype\n",
    "- integer `int` +1 -3 209301 -83\n",
    "- float `float` 1.2 1.0000 -3.152132\n",
    "- String `str`  'a' , \"a\", '''a'''\n",
    "- Boolean `bool` True False\n",
    "- None `None` None -> when u want empty variable\n",
    "- list `list` `[1,2,3,4,5]` `['apple','banana','avocado']`\n",
    "- tuple `tuple` (1,2,3,4,5) ('apple','banana','avocado')\n",
    "- set `set` {1,2,3,4,5} {'apple','banana','avocado'}\n",
    "- dict `dict` {'a':'apple','b':'banana','c':'cherry'}"
   ],
   "cell_type": "markdown",
   "metadata": {}
  },
  {
   "cell_type": "code",
   "execution_count": null,
   "metadata": {},
   "outputs": [],
   "source": []
  }
 ]
}