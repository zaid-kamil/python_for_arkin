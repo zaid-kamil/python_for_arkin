{
 "metadata": {
  "language_info": {
   "codemirror_mode": {
    "name": "ipython",
    "version": 3
   },
   "file_extension": ".py",
   "mimetype": "text/x-python",
   "name": "python",
   "nbconvert_exporter": "python",
   "pygments_lexer": "ipython3",
   "version": "3.8.3-final"
  },
  "orig_nbformat": 2,
  "kernelspec": {
   "name": "Python 3.8.3 64-bit",
   "display_name": "Python 3.8.3 64-bit",
   "metadata": {
    "interpreter": {
     "hash": "9ad268fd485861c22c359044ed3ddbe8fb481338325f6875a93294b1083849ba"
    }
   }
  }
 },
 "nbformat": 4,
 "nbformat_minor": 2,
 "cells": [
  {
   "source": [
    "# Dictionary\n",
    "- properties of the dict data structure\n",
    "    - item are unindexed\n",
    "    - are ordered (before v3.6 it was unordered)\n",
    "    - dictionary use key value pairs to store data\n",
    "    - keys are unique and immutable\n",
    "    - values are any data datatype that you want\n",
    "    - values can be mixed (heterogenous)\n",
    "    - are mutable (we can add or remove values after creation) \n",
    "    - is represented by `{ }`\n",
    "    - `dict()` is used to convert other data structure into dict"
   ],
   "cell_type": "markdown",
   "metadata": {}
  },
  {
   "source": [
    "- creation \n",
    "- slicing and indexing\n",
    "- looping\n",
    "- functions"
   ],
   "cell_type": "markdown",
   "metadata": {}
  },
  {
   "source": [
    "# creation"
   ],
   "cell_type": "markdown",
   "metadata": {}
  },
  {
   "cell_type": "code",
   "execution_count": 1,
   "metadata": {},
   "outputs": [],
   "source": [
    "fruits = {'A':\"Apple\", 'B':'Banana', 'C':'Cherry', 'D':'Dragonfruits'}"
   ]
  },
  {
   "cell_type": "code",
   "execution_count": 4,
   "metadata": {},
   "outputs": [
    {
     "output_type": "execute_result",
     "data": {
      "text/plain": [
       "'Dragonfruits'"
      ]
     },
     "metadata": {},
     "execution_count": 4
    }
   ],
   "source": [
    "fruits['D']"
   ]
  },
  {
   "cell_type": "code",
   "execution_count": 5,
   "metadata": {},
   "outputs": [
    {
     "output_type": "execute_result",
     "data": {
      "text/plain": [
       "'UNITED NATIONS'"
      ]
     },
     "metadata": {},
     "execution_count": 5
    }
   ],
   "source": [
    "abbriviations = {'UN':\"UNITED NATIONS\",\"UK\":'UNITED KINDOM','UP':'UTTAR PRADESH'}\n",
    "abbriviations['UN']"
   ]
  },
  {
   "cell_type": "code",
   "execution_count": 6,
   "metadata": {},
   "outputs": [],
   "source": [
    "veggies = {} # empty dict"
   ]
  },
  {
   "cell_type": "code",
   "execution_count": 7,
   "metadata": {},
   "outputs": [
    {
     "output_type": "execute_result",
     "data": {
      "text/plain": [
       "{'name': 'Amar singh', 'age': 36, 'occupation': 'janitor'}"
      ]
     },
     "metadata": {},
     "execution_count": 7
    }
   ],
   "source": [
    "employee = dict(name='Amar singh',age=36, occupation='janitor')\n",
    "employee"
   ]
  },
  {
   "cell_type": "code",
   "execution_count": 8,
   "metadata": {},
   "outputs": [],
   "source": [
    "report = {\n",
    "    'info 1': {\n",
    "        'author':'Barbara Jack',\n",
    "        'title' : 'the global pandemic is a big problem'\n",
    "    },\n",
    "    'info 2':{\n",
    "        'author':'Samuel Jackson',\n",
    "        'title' :'we need a shield against corona',\n",
    "    },\n",
    "    'info 3': {\n",
    "        'author':'Samurai Jack',\n",
    "        'title' :'how to defeat Aku in 3 steps'\n",
    "    }\n",
    "}"
   ]
  },
  {
   "cell_type": "code",
   "execution_count": 10,
   "metadata": {},
   "outputs": [
    {
     "output_type": "execute_result",
     "data": {
      "text/plain": [
       "{'author': 'Samuel Jackson', 'title': 'we need a shield against corona'}"
      ]
     },
     "metadata": {},
     "execution_count": 10
    }
   ],
   "source": [
    "report['info 2']"
   ]
  },
  {
   "cell_type": "code",
   "execution_count": 11,
   "metadata": {},
   "outputs": [
    {
     "output_type": "execute_result",
     "data": {
      "text/plain": [
       "'Samuel Jackson'"
      ]
     },
     "metadata": {},
     "execution_count": 11
    }
   ],
   "source": [
    "report['info 2']['author']"
   ]
  },
  {
   "source": [
    "# looping "
   ],
   "cell_type": "markdown",
   "metadata": {}
  },
  {
   "cell_type": "code",
   "execution_count": 13,
   "metadata": {},
   "outputs": [
    {
     "output_type": "stream",
     "name": "stdout",
     "text": [
      "A\nB\nC\nD\n"
     ]
    }
   ],
   "source": [
    "for item in fruits:\n",
    "    print(item)"
   ]
  },
  {
   "cell_type": "code",
   "execution_count": 16,
   "metadata": {},
   "outputs": [
    {
     "output_type": "stream",
     "name": "stdout",
     "text": [
      "Apple\nBanana\nCherry\nDragonfruits\n"
     ]
    }
   ],
   "source": [
    "for k in fruits:\n",
    "    print(fruits[k])"
   ]
  },
  {
   "cell_type": "code",
   "execution_count": 17,
   "metadata": {},
   "outputs": [
    {
     "output_type": "stream",
     "name": "stdout",
     "text": [
      "Apple\nBanana\nCherry\nDragonfruits\n"
     ]
    }
   ],
   "source": [
    "for i in fruits.values():\n",
    "    print(i)"
   ]
  },
  {
   "cell_type": "code",
   "execution_count": 19,
   "metadata": {},
   "outputs": [
    {
     "output_type": "stream",
     "name": "stdout",
     "text": [
      "A\nB\nC\nD\n"
     ]
    }
   ],
   "source": [
    "for k in fruits.keys():\n",
    "    print(k)"
   ]
  },
  {
   "cell_type": "code",
   "execution_count": 20,
   "metadata": {},
   "outputs": [
    {
     "output_type": "stream",
     "name": "stdout",
     "text": [
      "A Apple\nB Banana\nC Cherry\nD Dragonfruits\n"
     ]
    }
   ],
   "source": [
    "for  k,v in fruits.items():\n",
    "    print(k, v)"
   ]
  },
  {
   "cell_type": "code",
   "execution_count": 26,
   "metadata": {},
   "outputs": [
    {
     "output_type": "stream",
     "name": "stdout",
     "text": [
      "info 1\nauthor : Barbara Jack\ntitle : the global pandemic is a big problem\ninfo 2\nauthor : Samuel Jackson\ntitle : we need a shield against corona\ninfo 3\nauthor : Samurai Jack\ntitle : how to defeat Aku in 3 steps\n"
     ]
    }
   ],
   "source": [
    "for key,value in report.items():\n",
    "    print(key)\n",
    "    for k,v in value.items():\n",
    "        print(f'{k} : {v}')"
   ]
  },
  {
   "source": [
    "- add k:v in dictionary"
   ],
   "cell_type": "markdown",
   "metadata": {}
  },
  {
   "cell_type": "code",
   "execution_count": 28,
   "metadata": {},
   "outputs": [],
   "source": [
    "# add a new key and value pair\n",
    "fruits['E'] = 'Elderberry'"
   ]
  },
  {
   "cell_type": "code",
   "execution_count": 29,
   "metadata": {},
   "outputs": [
    {
     "output_type": "execute_result",
     "data": {
      "text/plain": [
       "{'A': 'Apple',\n",
       " 'B': 'Banana',\n",
       " 'C': 'Cherry',\n",
       " 'D': 'Dragonfruits',\n",
       " 'E': 'Elderberry'}"
      ]
     },
     "metadata": {},
     "execution_count": 29
    }
   ],
   "source": [
    "fruits"
   ]
  },
  {
   "cell_type": "code",
   "execution_count": 30,
   "metadata": {},
   "outputs": [
    {
     "output_type": "execute_result",
     "data": {
      "text/plain": [
       "{'A': 'Avocado',\n",
       " 'B': 'Banana',\n",
       " 'C': 'Cherry',\n",
       " 'D': 'Dragonfruits',\n",
       " 'E': 'Elderberry'}"
      ]
     },
     "metadata": {},
     "execution_count": 30
    }
   ],
   "source": [
    "# update the value of exisiting key\n",
    "fruits['A'] = 'Avocado'\n",
    "fruits"
   ]
  },
  {
   "cell_type": "code",
   "execution_count": 35,
   "metadata": {},
   "outputs": [],
   "source": [
    "name = input(\"enter a fruit name with F: \")\n",
    "if name:\n",
    "    fruits['F'] = name"
   ]
  },
  {
   "cell_type": "code",
   "execution_count": 36,
   "metadata": {},
   "outputs": [
    {
     "output_type": "execute_result",
     "data": {
      "text/plain": [
       "{'A': 'Avocado',\n",
       " 'B': 'Banana',\n",
       " 'C': 'Cherry',\n",
       " 'D': 'Dragonfruits',\n",
       " 'E': 'Elderberry',\n",
       " 'F': 'figs'}"
      ]
     },
     "metadata": {},
     "execution_count": 36
    }
   ],
   "source": [
    "fruits"
   ]
  },
  {
   "cell_type": "code",
   "execution_count": 37,
   "metadata": {},
   "outputs": [
    {
     "output_type": "stream",
     "name": "stdout",
     "text": [
      "exists\n"
     ]
    }
   ],
   "source": [
    "# HOW TO CHECK IF A KEYS EXISTING IN A DICTIONARY\n",
    "if 'C' in fruits:\n",
    "    print('exists')"
   ]
  },
  {
   "cell_type": "code",
   "execution_count": 39,
   "metadata": {},
   "outputs": [
    {
     "output_type": "stream",
     "name": "stdout",
     "text": [
      "not found\n"
     ]
    }
   ],
   "source": [
    "if 'X' in fruits:\n",
    "    print('exists')\n",
    "else:\n",
    "    print(\"not found\")"
   ]
  },
  {
   "source": [
    "### task \n",
    "create a dictionary called `contact_book`, and add numbers of friends and family by asking `name` for key and number as `value`. if the name exists in dictionary then dont ask the number. the dictionary should have 10 contacts\n",
    "\n",
    "example\n",
    "```\n",
    "# loop 10 times\n",
    "name = input('blah blah blah')\n",
    "# put condition\n",
    "phone = input('blah:')\n",
    "contact_book[name]=phone\n",
    "```\n",
    "thats it"
   ],
   "cell_type": "markdown",
   "metadata": {}
  },
  {
   "source": [
    "# functions"
   ],
   "cell_type": "markdown",
   "metadata": {}
  },
  {
   "cell_type": "code",
   "execution_count": null,
   "metadata": {},
   "outputs": [],
   "source": []
  }
 ]
}