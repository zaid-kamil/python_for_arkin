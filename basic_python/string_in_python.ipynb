{
 "metadata": {
  "language_info": {
   "codemirror_mode": {
    "name": "ipython",
    "version": 3
   },
   "file_extension": ".py",
   "mimetype": "text/x-python",
   "name": "python",
   "nbconvert_exporter": "python",
   "pygments_lexer": "ipython3",
   "version": "3.8.3-final"
  },
  "orig_nbformat": 2,
  "kernelspec": {
   "name": "Python 3.8.3 64-bit",
   "display_name": "Python 3.8.3 64-bit",
   "metadata": {
    "interpreter": {
     "hash": "9ad268fd485861c22c359044ed3ddbe8fb481338325f6875a93294b1083849ba"
    }
   }
  }
 },
 "nbformat": 4,
 "nbformat_minor": 2,
 "cells": [
  {
   "source": [
    "# creation of string\n",
    "- single quotes\n",
    "- double quotes\n",
    "- triple single quotes\n",
    "- triple double quotes"
   ],
   "cell_type": "markdown",
   "metadata": {}
  },
  {
   "cell_type": "code",
   "execution_count": 1,
   "metadata": {},
   "outputs": [],
   "source": [
    "msg1 = \"this is the way to create a double quoted string\"\n",
    "msg2 = 'this is just the easy peasy single quoted string'\n",
    "msg3 = '''this is the string style where we\n",
    "can write in multiple lines\n",
    "as a long and descriptive msg'''\n",
    "msg4 = \"\"\"this is the same as the triple single quotes \n",
    "but with double quotes in place \n",
    "\n",
    "and still u can write as many lines as u want\n",
    "\n",
    "okay\"\"\""
   ]
  },
  {
   "cell_type": "code",
   "execution_count": 2,
   "metadata": {
    "tags": []
   },
   "outputs": [
    {
     "output_type": "stream",
     "name": "stdout",
     "text": [
      "this is the same as the triple single quotes \nbut with double quotes in place \n\nand still u can write as many lines as u want\n\nokay\n"
     ]
    }
   ],
   "source": [
    "print(msg4)"
   ]
  },
  {
   "source": [
    "# operators in string\n",
    "- concatenation `+`\n",
    "- duplication `*`\n"
   ],
   "cell_type": "markdown",
   "metadata": {}
  },
  {
   "cell_type": "code",
   "execution_count": 3,
   "metadata": {
    "tags": []
   },
   "outputs": [
    {
     "output_type": "stream",
     "name": "stdout",
     "text": [
      "dragonborn\n"
     ]
    }
   ],
   "source": [
    "output = 'dragon'+'born'\n",
    "print(output)"
   ]
  },
  {
   "cell_type": "code",
   "execution_count": 4,
   "metadata": {
    "tags": []
   },
   "outputs": [
    {
     "output_type": "stream",
     "name": "stdout",
     "text": [
      "FULL NAME: monkey luffy\n"
     ]
    }
   ],
   "source": [
    "firstname =  input('FIRST NAME:')\n",
    "lastname =  input('LAST NAME:')\n",
    "fullname =  firstname + ' ' + lastname #better way f'{firstname} {lastname}'\n",
    "print('FULL NAME:',fullname)"
   ]
  },
  {
   "cell_type": "code",
   "execution_count": 5,
   "metadata": {},
   "outputs": [
    {
     "output_type": "execute_result",
     "data": {
      "text/plain": [
       "'hahahahaha'"
      ]
     },
     "metadata": {},
     "execution_count": 5
    }
   ],
   "source": [
    "'ha' * 5"
   ]
  },
  {
   "cell_type": "code",
   "execution_count": 6,
   "metadata": {},
   "outputs": [
    {
     "output_type": "execute_result",
     "data": {
      "text/plain": [
       "'||||||||||'"
      ]
     },
     "metadata": {},
     "execution_count": 6
    }
   ],
   "source": [
    "'|' * 10"
   ]
  },
  {
   "source": [
    "# indexing\n"
   ],
   "cell_type": "markdown",
   "metadata": {}
  },
  {
   "cell_type": "code",
   "execution_count": 7,
   "metadata": {},
   "outputs": [],
   "source": [
    "name = \"Jason\""
   ]
  },
  {
   "cell_type": "code",
   "execution_count": 8,
   "metadata": {},
   "outputs": [
    {
     "output_type": "execute_result",
     "data": {
      "text/plain": [
       "'J'"
      ]
     },
     "metadata": {},
     "execution_count": 8
    }
   ],
   "source": [
    "name[0]"
   ]
  },
  {
   "cell_type": "code",
   "execution_count": 9,
   "metadata": {},
   "outputs": [
    {
     "output_type": "execute_result",
     "data": {
      "text/plain": [
       "'o'"
      ]
     },
     "metadata": {},
     "execution_count": 9
    }
   ],
   "source": [
    "name[3]"
   ]
  },
  {
   "cell_type": "code",
   "execution_count": 10,
   "metadata": {},
   "outputs": [
    {
     "output_type": "execute_result",
     "data": {
      "text/plain": [
       "'n'"
      ]
     },
     "metadata": {},
     "execution_count": 10
    }
   ],
   "source": [
    "name[4]"
   ]
  },
  {
   "cell_type": "code",
   "execution_count": 11,
   "metadata": {},
   "outputs": [
    {
     "output_type": "execute_result",
     "data": {
      "text/plain": [
       "'this is just the easy peasy single quoted string'"
      ]
     },
     "metadata": {},
     "execution_count": 11
    }
   ],
   "source": [
    "msg2"
   ]
  },
  {
   "cell_type": "code",
   "execution_count": 12,
   "metadata": {},
   "outputs": [
    {
     "output_type": "execute_result",
     "data": {
      "text/plain": [
       "'g'"
      ]
     },
     "metadata": {},
     "execution_count": 12
    }
   ],
   "source": [
    "msg2[len(msg2) - 1]"
   ]
  },
  {
   "cell_type": "code",
   "execution_count": 13,
   "metadata": {},
   "outputs": [
    {
     "output_type": "execute_result",
     "data": {
      "text/plain": [
       "'g'"
      ]
     },
     "metadata": {},
     "execution_count": 13
    }
   ],
   "source": [
    "msg2[-1]"
   ]
  },
  {
   "cell_type": "code",
   "execution_count": 14,
   "metadata": {},
   "outputs": [
    {
     "output_type": "execute_result",
     "data": {
      "text/plain": [
       "'i'"
      ]
     },
     "metadata": {},
     "execution_count": 14
    }
   ],
   "source": [
    "msg2[-3]"
   ]
  },
  {
   "cell_type": "code",
   "execution_count": 15,
   "metadata": {},
   "outputs": [
    {
     "output_type": "execute_result",
     "data": {
      "text/plain": [
       "'n'"
      ]
     },
     "metadata": {},
     "execution_count": 15
    }
   ],
   "source": [
    "name[-1]"
   ]
  },
  {
   "source": [
    "# slicing \n",
    "- get a sub string from an existing string"
   ],
   "cell_type": "markdown",
   "metadata": {}
  },
  {
   "cell_type": "code",
   "execution_count": 16,
   "metadata": {
    "tags": []
   },
   "outputs": [
    {
     "output_type": "stream",
     "name": "stdout",
     "text": [
      "vijay\n"
     ]
    }
   ],
   "source": [
    "a = 'vijay deenanath chauhan'\n",
    "firstname = a[0:5]\n",
    "print(firstname)"
   ]
  },
  {
   "cell_type": "code",
   "execution_count": 17,
   "metadata": {},
   "outputs": [
    {
     "output_type": "execute_result",
     "data": {
      "text/plain": [
       "'vijay'"
      ]
     },
     "metadata": {},
     "execution_count": 17
    }
   ],
   "source": [
    "a[:5] # start from beggining and stop at 5"
   ]
  },
  {
   "cell_type": "code",
   "execution_count": 18,
   "metadata": {},
   "outputs": [
    {
     "output_type": "execute_result",
     "data": {
      "text/plain": [
       "'chauhan'"
      ]
     },
     "metadata": {},
     "execution_count": 18
    }
   ],
   "source": [
    "a[-7:] # start from -7 and dont stop until the end"
   ]
  },
  {
   "cell_type": "code",
   "execution_count": 19,
   "metadata": {},
   "outputs": [
    {
     "output_type": "execute_result",
     "data": {
      "text/plain": [
       "'h ol '"
      ]
     },
     "metadata": {},
     "execution_count": 19
    }
   ],
   "source": [
    "a = 'the world of OZ'\n",
    "a[1:10:2]"
   ]
  },
  {
   "cell_type": "code",
   "execution_count": 20,
   "metadata": {},
   "outputs": [
    {
     "output_type": "execute_result",
     "data": {
      "text/plain": [
       "'tewrdo '"
      ]
     },
     "metadata": {},
     "execution_count": 20
    }
   ],
   "source": [
    "a[:13:2] # start from beggining then stop at 13th index and move with a gap of 2"
   ]
  },
  {
   "cell_type": "code",
   "execution_count": 21,
   "metadata": {},
   "outputs": [
    {
     "output_type": "execute_result",
     "data": {
      "text/plain": [
       "'tewrdo Z'"
      ]
     },
     "metadata": {},
     "execution_count": 21
    }
   ],
   "source": [
    "a[::2]"
   ]
  },
  {
   "cell_type": "code",
   "execution_count": 22,
   "metadata": {},
   "outputs": [
    {
     "output_type": "execute_result",
     "data": {
      "text/plain": [
       "'ZO fo dlrow eht'"
      ]
     },
     "metadata": {},
     "execution_count": 22
    }
   ],
   "source": [
    "a[::-1] # reverse"
   ]
  },
  {
   "cell_type": "code",
   "execution_count": 23,
   "metadata": {},
   "outputs": [
    {
     "output_type": "execute_result",
     "data": {
      "text/plain": [
       "'ZO '"
      ]
     },
     "metadata": {},
     "execution_count": 23
    }
   ],
   "source": [
    "a[::-1][:][:3]"
   ]
  },
  {
   "source": [
    "# functions in string"
   ],
   "cell_type": "markdown",
   "metadata": {}
  },
  {
   "source": [
    "- formatting - output display\n",
    "    - upper\n",
    "    - lower\n",
    "    - title\n",
    "    - swapcase\n",
    "    - capitalize\n",
    "    - format\n",
    "    - ljust\n",
    "    - rjust\n",
    "    - center\n",
    "- validations - checking conditions\n",
    "    - isupper\n",
    "    - islower\n",
    "    - isnumeric\n",
    "    - isalpha\n",
    "    - isalnum\n",
    "    - isspace\n",
    "    - istitle\n",
    "    - startswith\n",
    "    - endswith\n",
    "- utilities - helpful functions for important task\n",
    "    - find\n",
    "    - index \n",
    "    - replace\n",
    "    - split\n",
    "    - join\n",
    "    - strip\n",
    "    - count\n"
   ],
   "cell_type": "markdown",
   "metadata": {}
  },
  {
   "source": [
    "### formatting functions in string"
   ],
   "cell_type": "markdown",
   "metadata": {}
  },
  {
   "cell_type": "code",
   "execution_count": 24,
   "metadata": {},
   "outputs": [],
   "source": [
    "data = \"Journey before Destination\""
   ]
  },
  {
   "cell_type": "code",
   "execution_count": 25,
   "metadata": {},
   "outputs": [
    {
     "output_type": "execute_result",
     "data": {
      "text/plain": [
       "'JOURNEY BEFORE DESTINATION'"
      ]
     },
     "metadata": {},
     "execution_count": 25
    }
   ],
   "source": [
    "data.upper()"
   ]
  },
  {
   "cell_type": "code",
   "execution_count": 26,
   "metadata": {},
   "outputs": [
    {
     "output_type": "execute_result",
     "data": {
      "text/plain": [
       "'journey before destination'"
      ]
     },
     "metadata": {},
     "execution_count": 26
    }
   ],
   "source": [
    "data.lower()"
   ]
  },
  {
   "cell_type": "code",
   "execution_count": 27,
   "metadata": {},
   "outputs": [
    {
     "output_type": "execute_result",
     "data": {
      "text/plain": [
       "'Journey before destination'"
      ]
     },
     "metadata": {},
     "execution_count": 27
    }
   ],
   "source": [
    "data.capitalize()"
   ]
  },
  {
   "cell_type": "code",
   "execution_count": 28,
   "metadata": {},
   "outputs": [
    {
     "output_type": "execute_result",
     "data": {
      "text/plain": [
       "'Journey Before Destination'"
      ]
     },
     "metadata": {},
     "execution_count": 28
    }
   ],
   "source": [
    "data.title()"
   ]
  },
  {
   "cell_type": "code",
   "execution_count": 29,
   "metadata": {},
   "outputs": [
    {
     "output_type": "execute_result",
     "data": {
      "text/plain": [
       "'jOURNEY BEFORE dESTINATION'"
      ]
     },
     "metadata": {},
     "execution_count": 29
    }
   ],
   "source": [
    "data.swapcase()"
   ]
  },
  {
   "cell_type": "code",
   "execution_count": 30,
   "metadata": {},
   "outputs": [
    {
     "output_type": "execute_result",
     "data": {
      "text/plain": [
       "'i have the most number of banana that is 10'"
      ]
     },
     "metadata": {},
     "execution_count": 30
    }
   ],
   "source": [
    "a = 10\n",
    "b = 'banana'\n",
    "'i have the most number of {} that is {}'.format(b,a) # this is old\n",
    "# better version => f'i have the most number of {b} that is {a}'"
   ]
  },
  {
   "cell_type": "code",
   "execution_count": 31,
   "metadata": {},
   "outputs": [
    {
     "output_type": "execute_result",
     "data": {
      "text/plain": [
       "'                                             ninja'"
      ]
     },
     "metadata": {},
     "execution_count": 31
    }
   ],
   "source": [
    "word = 'ninja'\n",
    "word.rjust(50)"
   ]
  },
  {
   "cell_type": "code",
   "execution_count": 32,
   "metadata": {},
   "outputs": [
    {
     "output_type": "execute_result",
     "data": {
      "text/plain": [
       "'ninja                                             '"
      ]
     },
     "metadata": {},
     "execution_count": 32
    }
   ],
   "source": [
    "word.ljust(50)"
   ]
  },
  {
   "cell_type": "code",
   "execution_count": 33,
   "metadata": {},
   "outputs": [],
   "source": [
    "word_right = word.rjust(50)"
   ]
  },
  {
   "cell_type": "code",
   "execution_count": 34,
   "metadata": {},
   "outputs": [
    {
     "output_type": "stream",
     "name": "stdout",
     "text": [
      "                                             ninja\n"
     ]
    }
   ],
   "source": [
    "print(word_right)"
   ]
  },
  {
   "cell_type": "code",
   "execution_count": 35,
   "metadata": {},
   "outputs": [
    {
     "output_type": "execute_result",
     "data": {
      "text/plain": [
       "'                 ninja                  '"
      ]
     },
     "metadata": {},
     "execution_count": 35
    }
   ],
   "source": [
    "word.center(40)"
   ]
  },
  {
   "cell_type": "code",
   "execution_count": 36,
   "metadata": {},
   "outputs": [
    {
     "output_type": "stream",
     "name": "stdout",
     "text": [
      "1 # 3\n2 ## 6\n3 ### 9\n4 #### 12\n5 ##### 15\n6 ###### 18\n7 ####### 21\n8 ######## 24\n9 ######### 27\n"
     ]
    }
   ],
   "source": [
    "for i in range(1,10):\n",
    "    print(i, i * \"#\", i*3)"
   ]
  },
  {
   "cell_type": "code",
   "execution_count": 37,
   "metadata": {},
   "outputs": [
    {
     "output_type": "stream",
     "name": "stdout",
     "text": [
      "1 #          3\n2 ##         6\n3 ###        9\n4 ####       12\n5 #####      15\n6 ######     18\n7 #######    21\n8 ########   24\n9 #########  27\n"
     ]
    }
   ],
   "source": [
    "for i in range(1,10):\n",
    "    print(i, (i * \"#\").ljust(10), i*3)"
   ]
  },
  {
   "source": [
    "### validation functions"
   ],
   "cell_type": "markdown",
   "metadata": {}
  },
  {
   "cell_type": "code",
   "execution_count": 38,
   "metadata": {},
   "outputs": [
    {
     "output_type": "execute_result",
     "data": {
      "text/plain": [
       "'Journey before Destination'"
      ]
     },
     "metadata": {},
     "execution_count": 38
    }
   ],
   "source": [
    "data"
   ]
  },
  {
   "cell_type": "code",
   "execution_count": 39,
   "metadata": {},
   "outputs": [
    {
     "output_type": "execute_result",
     "data": {
      "text/plain": [
       "False"
      ]
     },
     "metadata": {},
     "execution_count": 39
    }
   ],
   "source": [
    "data.isupper()"
   ]
  },
  {
   "cell_type": "code",
   "execution_count": 40,
   "metadata": {},
   "outputs": [
    {
     "output_type": "execute_result",
     "data": {
      "text/plain": [
       "True"
      ]
     },
     "metadata": {},
     "execution_count": 40
    }
   ],
   "source": [
    "data.upper().isupper()"
   ]
  },
  {
   "cell_type": "code",
   "execution_count": 41,
   "metadata": {},
   "outputs": [
    {
     "output_type": "stream",
     "name": "stdout",
     "text": [
      "not awesome\n"
     ]
    }
   ],
   "source": [
    "if data.isupper():\n",
    "    print(\"awesome\")\n",
    "else:\n",
    "    print(\"not awesome\")"
   ]
  },
  {
   "cell_type": "code",
   "execution_count": 42,
   "metadata": {},
   "outputs": [
    {
     "output_type": "stream",
     "name": "stdout",
     "text": [
      "not awesome\n"
     ]
    }
   ],
   "source": [
    "if data.islower():\n",
    "    print(\"awesome\")\n",
    "else:\n",
    "    print(\"not awesome\")"
   ]
  },
  {
   "cell_type": "code",
   "execution_count": 43,
   "metadata": {},
   "outputs": [
    {
     "output_type": "stream",
     "name": "stdout",
     "text": [
      "good\n"
     ]
    }
   ],
   "source": [
    "msg = input(\"enter you msg:\")\n",
    "if msg.islower():\n",
    "    print(\"good\")\n",
    "elif msg.isupper():\n",
    "    print(\"Stop writing in all caps\")\n",
    "else:\n",
    "    print(\"the data is in mixed case\")"
   ]
  },
  {
   "cell_type": "code",
   "execution_count": 44,
   "metadata": {},
   "outputs": [
    {
     "output_type": "stream",
     "name": "stdout",
     "text": [
      "done\n"
     ]
    }
   ],
   "source": [
    "# checking numbers\n",
    "phone = input(\"enter phone number:\")\n",
    "if phone.isnumeric():\n",
    "    phone = int(phone)\n",
    "    print(\"done\")\n",
    "else:\n",
    "    print(\"invalid characters found, only numbers are accepted\")"
   ]
  },
  {
   "cell_type": "code",
   "execution_count": 45,
   "metadata": {},
   "outputs": [
    {
     "output_type": "stream",
     "name": "stdout",
     "text": [
      "only alphabets are accepted\n"
     ]
    }
   ],
   "source": [
    "firstname = input('enter first name')\n",
    "if firstname.isalpha():\n",
    "    print(\"well done\")\n",
    "else:\n",
    "    print(\"only alphabets are accepted\")\n"
   ]
  },
  {
   "cell_type": "code",
   "execution_count": 46,
   "metadata": {},
   "outputs": [
    {
     "output_type": "stream",
     "name": "stdout",
     "text": [
      "you are not worthy\n"
     ]
    }
   ],
   "source": [
    "name =input('enter full name:')\n",
    "if name.lower().startswith(\"prof.\"):\n",
    "    print(\"hello professor\")\n",
    "elif name.lower().startswith('dr.'):\n",
    "    print(\"hello doctor\")\n",
    "elif name.lower().startswith('st.'):\n",
    "    print(\"Hello Father\")\n",
    "else:\n",
    "    print(\"you are not worthy\")"
   ]
  },
  {
   "cell_type": "code",
   "execution_count": 47,
   "metadata": {},
   "outputs": [
    {
     "output_type": "stream",
     "name": "stdout",
     "text": [
      "batman is selected\nsuperman is selected\n"
     ]
    }
   ],
   "source": [
    "justice_league =[\n",
    "    'batman',\n",
    "    'superman',\n",
    "    'wonderwomen',\n",
    "    'flash',\n",
    "    'green lantern',\n",
    "    'martian manhunter',\n",
    "    'hawk girl'\n",
    "    ]\n",
    "\n",
    "for hero in justice_league:\n",
    "    if hero.endswith('man'):\n",
    "        print(f\"{hero} is selected\")"
   ]
  },
  {
   "source": [
    "# task \n",
    "- to print the word that contains 'a' or 'o' or 'e' from the list below\n",
    "Even, after, dying, countless, times, Subaru, finally, ended, the, threat, of, the, White, Whale, and, defeated, the, Witch, Cult's, Sin, Archbishop, representing, sloth, Petelgeuse, Romaneeconti.\n"
   ],
   "cell_type": "markdown",
   "metadata": {}
  },
  {
   "source": [
    "### string utilities\n",
    "- find\n",
    "- index \n",
    "- replace\n",
    "- split\n",
    "- join\n",
    "- strip\n",
    "- count"
   ],
   "cell_type": "markdown",
   "metadata": {}
  },
  {
   "cell_type": "code",
   "execution_count": 48,
   "metadata": {},
   "outputs": [],
   "source": [
    "data = \"the most important stuff is the most boring one\""
   ]
  },
  {
   "cell_type": "code",
   "execution_count": 49,
   "metadata": {},
   "outputs": [
    {
     "output_type": "execute_result",
     "data": {
      "text/plain": [
       "6"
      ]
     },
     "metadata": {},
     "execution_count": 49
    }
   ],
   "source": [
    "data.find('s')"
   ]
  },
  {
   "cell_type": "code",
   "execution_count": 50,
   "metadata": {},
   "outputs": [
    {
     "output_type": "execute_result",
     "data": {
      "text/plain": [
       "19"
      ]
     },
     "metadata": {},
     "execution_count": 50
    }
   ],
   "source": [
    "data.find('stuff')"
   ]
  },
  {
   "cell_type": "code",
   "execution_count": 51,
   "metadata": {},
   "outputs": [
    {
     "output_type": "execute_result",
     "data": {
      "text/plain": [
       "'stuff is the most boring one'"
      ]
     },
     "metadata": {},
     "execution_count": 51
    }
   ],
   "source": [
    "startidx = data.find('stuff')\n",
    "data[startidx:]"
   ]
  },
  {
   "cell_type": "code",
   "execution_count": 52,
   "metadata": {},
   "outputs": [],
   "source": [
    "data = 'Thank you for your interest in our webinar! We hope the sharing session has given you valuable insights and practices on how to smoothly transition from Manual to Automated Testing.'"
   ]
  },
  {
   "cell_type": "code",
   "execution_count": 53,
   "metadata": {},
   "outputs": [
    {
     "output_type": "execute_result",
     "data": {
      "text/plain": [
       "'We hope the sharing session has given you valuable insights and practices on how to smoothly transition from Manual to Automated Testing.'"
      ]
     },
     "metadata": {},
     "execution_count": 53
    }
   ],
   "source": [
    "data[data.find('We'):]"
   ]
  },
  {
   "cell_type": "code",
   "execution_count": 54,
   "metadata": {},
   "outputs": [
    {
     "output_type": "execute_result",
     "data": {
      "text/plain": [
       "-1"
      ]
     },
     "metadata": {},
     "execution_count": 54
    }
   ],
   "source": [
    "data.find('Pokemon')"
   ]
  },
  {
   "cell_type": "code",
   "execution_count": 55,
   "metadata": {},
   "outputs": [],
   "source": [
    "msg= 'this is the story of Midoria, the worlds symbol of peace'"
   ]
  },
  {
   "cell_type": "code",
   "execution_count": 56,
   "metadata": {},
   "outputs": [
    {
     "output_type": "execute_result",
     "data": {
      "text/plain": [
       "18"
      ]
     },
     "metadata": {},
     "execution_count": 56
    }
   ],
   "source": [
    "msg.find('of')"
   ]
  },
  {
   "cell_type": "code",
   "execution_count": 57,
   "metadata": {},
   "outputs": [
    {
     "output_type": "execute_result",
     "data": {
      "text/plain": [
       "48"
      ]
     },
     "metadata": {},
     "execution_count": 57
    }
   ],
   "source": [
    "msg.find('of',19) # start with an index value "
   ]
  },
  {
   "cell_type": "code",
   "execution_count": 58,
   "metadata": {},
   "outputs": [
    {
     "output_type": "execute_result",
     "data": {
      "text/plain": [
       "'Midoria, the wo'"
      ]
     },
     "metadata": {},
     "execution_count": 58
    }
   ],
   "source": [
    "idx = msg.find('Midoria')\n",
    "msg[idx:idx+15]"
   ]
  },
  {
   "cell_type": "code",
   "execution_count": 59,
   "metadata": {},
   "outputs": [
    {
     "output_type": "execute_result",
     "data": {
      "text/plain": [
       "'Midoria, the wo'"
      ]
     },
     "metadata": {},
     "execution_count": 59
    }
   ],
   "source": [
    "msg[msg.find('Midoria'): msg.find('Midoria')+15]"
   ]
  },
  {
   "cell_type": "code",
   "execution_count": 60,
   "metadata": {},
   "outputs": [
    {
     "output_type": "execute_result",
     "data": {
      "text/plain": [
       "21"
      ]
     },
     "metadata": {},
     "execution_count": 60
    }
   ],
   "source": [
    "msg.index('Midoria')"
   ]
  },
  {
   "cell_type": "code",
   "execution_count": 61,
   "metadata": {},
   "outputs": [
    {
     "output_type": "error",
     "ename": "ValueError",
     "evalue": "substring not found",
     "traceback": [
      "\u001b[1;31m---------------------------------------------------------------------------\u001b[0m",
      "\u001b[1;31mValueError\u001b[0m                                Traceback (most recent call last)",
      "\u001b[1;32m<ipython-input-61-5e0fe216a31d>\u001b[0m in \u001b[0;36m<module>\u001b[1;34m\u001b[0m\n\u001b[1;32m----> 1\u001b[1;33m \u001b[0mmsg\u001b[0m\u001b[1;33m.\u001b[0m\u001b[0mindex\u001b[0m\u001b[1;33m(\u001b[0m\u001b[1;34m'All Might'\u001b[0m\u001b[1;33m)\u001b[0m \u001b[1;31m# we dont use the index function in string as we can use find\u001b[0m\u001b[1;33m\u001b[0m\u001b[1;33m\u001b[0m\u001b[0m\n\u001b[0m",
      "\u001b[1;31mValueError\u001b[0m: substring not found"
     ]
    }
   ],
   "source": [
    "msg.index('All Might') # we dont use the index function in string as we can use find"
   ]
  },
  {
   "cell_type": "code",
   "execution_count": 31,
   "metadata": {},
   "outputs": [
    {
     "output_type": "execute_result",
     "data": {
      "text/plain": [
       "'Thank you for your interest in our webinar! We hope the sharing session has given you valuable insights and practices on how to smoothly transition from Manual to Automated Testing.'"
      ]
     },
     "metadata": {},
     "execution_count": 31
    }
   ],
   "source": [
    "data"
   ]
  },
  {
   "cell_type": "code",
   "execution_count": 32,
   "metadata": {},
   "outputs": [
    {
     "output_type": "execute_result",
     "data": {
      "text/plain": [
       "'Thank --- for ---r interest in our webinar! We hope the sharing session has given --- valuable insights and practices on how to smoothly transition from Manual to Automated Testing.'"
      ]
     },
     "metadata": {},
     "execution_count": 32
    }
   ],
   "source": [
    "data.replace('you','---')"
   ]
  },
  {
   "cell_type": "code",
   "execution_count": 62,
   "metadata": {},
   "outputs": [],
   "source": [
    "data ='Thank you for your interest in our webinar! We hope the sharing session has given you valuable insights and practices on how to smoothly transition from Manual to Automated Testing.'"
   ]
  },
  {
   "cell_type": "code",
   "execution_count": 63,
   "metadata": {},
   "outputs": [],
   "source": [
    "# remove all the vowels"
   ]
  },
  {
   "cell_type": "code",
   "execution_count": 64,
   "metadata": {},
   "outputs": [
    {
     "output_type": "stream",
     "name": "stdout",
     "text": [
      "a\ne\ni\no\nu\n"
     ]
    }
   ],
   "source": [
    "for vowel in 'aeiou':\n",
    "    print(vowel)"
   ]
  },
  {
   "cell_type": "code",
   "execution_count": 65,
   "metadata": {},
   "outputs": [
    {
     "output_type": "execute_result",
     "data": {
      "text/plain": [
       "'Thnk you for your interest in our webinr! We hope the shring session hs given you vluble insights nd prctices on how to smoothly trnsition from Mnul to Automted Testing.'"
      ]
     },
     "metadata": {},
     "execution_count": 65
    }
   ],
   "source": [
    "data.replace('a','')"
   ]
  },
  {
   "cell_type": "code",
   "execution_count": 69,
   "metadata": {},
   "outputs": [
    {
     "output_type": "execute_result",
     "data": {
      "text/plain": [
       "'Thnk y fr yr ntrst n r wbnr! W hp th shrng sssn hs gvn y vlbl nsghts nd prctcs n hw t smthly trnstn frm Mnl t tmtd Tstng.'"
      ]
     },
     "metadata": {},
     "execution_count": 69
    }
   ],
   "source": [
    "data = data.replace('a','')\n",
    "data = data.replace('e','')\n",
    "data = data.replace('o','')\n",
    "data = data.replace('i','')\n",
    "data = data.replace('u','')\n",
    "data = data.replace('A','')\n",
    "data = data.replace('E','')\n",
    "data = data.replace('I','')\n",
    "data = data.replace('O','')\n",
    "data = data.replace('U','')\n",
    "data"
   ]
  },
  {
   "cell_type": "code",
   "execution_count": 70,
   "metadata": {},
   "outputs": [
    {
     "output_type": "stream",
     "name": "stdout",
     "text": [
      "Thnk y fr yr ntrst n r wbnr! W hp th shrng sssn hs gvn y vlbl nsghts nd prctcs n hw t smthly trnstn frm Mnl t tmtd Tstng.\n"
     ]
    }
   ],
   "source": [
    "data ='Thank you for your interest in our webinar! We hope the sharing session has given you valuable insights and practices on how to smoothly transition from Manual to Automated Testing.'\n",
    "for vowel in \"aeiouAEIOU\":\n",
    "    data = data.replace(vowel,'')\n",
    "print(data)"
   ]
  },
  {
   "cell_type": "code",
   "execution_count": 71,
   "metadata": {},
   "outputs": [],
   "source": [
    "data ='Thank you for your interest in our webinar! We hope the sharing session has given you valuable insights and practices on how to smoothly transition from Manual to Automated Testing.'"
   ]
  },
  {
   "cell_type": "code",
   "execution_count": 72,
   "metadata": {},
   "outputs": [
    {
     "output_type": "execute_result",
     "data": {
      "text/plain": [
       "['Thank',\n",
       " 'you',\n",
       " 'for',\n",
       " 'your',\n",
       " 'interest',\n",
       " 'in',\n",
       " 'our',\n",
       " 'webinar!',\n",
       " 'We',\n",
       " 'hope',\n",
       " 'the',\n",
       " 'sharing',\n",
       " 'session',\n",
       " 'has',\n",
       " 'given',\n",
       " 'you',\n",
       " 'valuable',\n",
       " 'insights',\n",
       " 'and',\n",
       " 'practices',\n",
       " 'on',\n",
       " 'how',\n",
       " 'to',\n",
       " 'smoothly',\n",
       " 'transition',\n",
       " 'from',\n",
       " 'Manual',\n",
       " 'to',\n",
       " 'Automated',\n",
       " 'Testing.']"
      ]
     },
     "metadata": {},
     "execution_count": 72
    }
   ],
   "source": [
    "data.split()"
   ]
  },
  {
   "cell_type": "code",
   "execution_count": 73,
   "metadata": {},
   "outputs": [],
   "source": [
    "words = data.split()"
   ]
  },
  {
   "cell_type": "code",
   "execution_count": 75,
   "metadata": {},
   "outputs": [
    {
     "output_type": "stream",
     "name": "stdout",
     "text": [
      "30\n"
     ]
    }
   ],
   "source": [
    "print(len(words))"
   ]
  },
  {
   "cell_type": "code",
   "execution_count": 77,
   "metadata": {},
   "outputs": [
    {
     "output_type": "stream",
     "name": "stdout",
     "text": [
      "Automated\n"
     ]
    }
   ],
   "source": [
    "for item in words:\n",
    "    if item.startswith('A'):\n",
    "        print(item)"
   ]
  },
  {
   "cell_type": "code",
   "execution_count": 78,
   "metadata": {},
   "outputs": [],
   "source": [
    "prepositions = ['above', 'across', 'against', 'along', 'among', 'around', 'at', 'before', 'behind', 'below', 'beneath', 'beside', 'between', 'by', 'down', 'from', 'in', 'into', 'near', 'of', 'off', 'on', 'to', 'toward', 'under', 'upon', 'with', 'and', 'within']"
   ]
  },
  {
   "cell_type": "code",
   "execution_count": 81,
   "metadata": {},
   "outputs": [
    {
     "output_type": "stream",
     "name": "stdout",
     "text": [
      "Thank you for your interest our webinar! We hope the sharing session has given you valuable insights practices how smoothly transition Manual Automated Testing. "
     ]
    }
   ],
   "source": [
    "for item in words:\n",
    "    if item.lower() not in prepositions:\n",
    "        print(item, end=' ')"
   ]
  },
  {
   "cell_type": "code",
   "execution_count": 83,
   "metadata": {},
   "outputs": [
    {
     "output_type": "execute_result",
     "data": {
      "text/plain": [
       "'above-across-against'"
      ]
     },
     "metadata": {},
     "execution_count": 83
    }
   ],
   "source": [
    "#  join \n",
    "data = ['above', 'across', 'against']\n",
    "\"-\".join(data)"
   ]
  },
  {
   "cell_type": "code",
   "execution_count": 84,
   "metadata": {},
   "outputs": [
    {
     "output_type": "execute_result",
     "data": {
      "text/plain": [
       "'above across against'"
      ]
     },
     "metadata": {},
     "execution_count": 84
    }
   ],
   "source": [
    "\" \".join(data)"
   ]
  },
  {
   "cell_type": "code",
   "execution_count": 85,
   "metadata": {},
   "outputs": [
    {
     "output_type": "execute_result",
     "data": {
      "text/plain": [
       "'above,across,against'"
      ]
     },
     "metadata": {},
     "execution_count": 85
    }
   ],
   "source": [
    "\",\".join(data)"
   ]
  },
  {
   "cell_type": "code",
   "execution_count": 86,
   "metadata": {},
   "outputs": [
    {
     "output_type": "execute_result",
     "data": {
      "text/plain": [
       "'above hello across hello against'"
      ]
     },
     "metadata": {},
     "execution_count": 86
    }
   ],
   "source": [
    "\" hello \".join(data)"
   ]
  },
  {
   "cell_type": "code",
   "execution_count": 87,
   "metadata": {},
   "outputs": [
    {
     "output_type": "execute_result",
     "data": {
      "text/plain": [
       "list"
      ]
     },
     "metadata": {},
     "execution_count": 87
    }
   ],
   "source": [
    "type(data)"
   ]
  },
  {
   "cell_type": "code",
   "execution_count": 88,
   "metadata": {},
   "outputs": [
    {
     "output_type": "execute_result",
     "data": {
      "text/plain": [
       "str"
      ]
     },
     "metadata": {},
     "execution_count": 88
    }
   ],
   "source": [
    "type(item)"
   ]
  },
  {
   "cell_type": "code",
   "execution_count": 89,
   "metadata": {},
   "outputs": [
    {
     "output_type": "execute_result",
     "data": {
      "text/plain": [
       "'the name is john'"
      ]
     },
     "metadata": {},
     "execution_count": 89
    }
   ],
   "source": [
    "val = ' the name is john '\n",
    "val.strip()"
   ]
  },
  {
   "cell_type": "code",
   "execution_count": 92,
   "metadata": {},
   "outputs": [
    {
     "output_type": "stream",
     "name": "stdout",
     "text": [
      "16\n10\n"
     ]
    }
   ],
   "source": [
    "name = input(\"enter ur name :\")\n",
    "print(len(name))\n",
    "name = name.strip()\n",
    "print(len(name))"
   ]
  },
  {
   "cell_type": "code",
   "execution_count": 93,
   "metadata": {},
   "outputs": [
    {
     "output_type": "execute_result",
     "data": {
      "text/plain": [
       "'zaid kamil'"
      ]
     },
     "metadata": {},
     "execution_count": 93
    }
   ],
   "source": [
    "name"
   ]
  },
  {
   "cell_type": "code",
   "execution_count": 94,
   "metadata": {},
   "outputs": [],
   "source": [
    "wiki = '''Adpositions can be used to express a wide range of semantic relations between their complement and the rest of the context. The relations expressed may be spatial (denoting location or direction), temporal (denoting position in time), or relations expressing comparison, content, agent, instrument, means, manner, cause, purpose, reference, etc.'''"
   ]
  },
  {
   "cell_type": "code",
   "execution_count": 96,
   "metadata": {},
   "outputs": [
    {
     "output_type": "execute_result",
     "data": {
      "text/plain": [
       "4"
      ]
     },
     "metadata": {},
     "execution_count": 96
    }
   ],
   "source": [
    "wiki.lower().count('the')"
   ]
  },
  {
   "cell_type": "code",
   "execution_count": 98,
   "metadata": {},
   "outputs": [
    {
     "output_type": "execute_result",
     "data": {
      "text/plain": [
       "3"
      ]
     },
     "metadata": {},
     "execution_count": 98
    }
   ],
   "source": [
    "wiki.count('or')"
   ]
  },
  {
   "cell_type": "code",
   "execution_count": 99,
   "metadata": {},
   "outputs": [
    {
     "output_type": "execute_result",
     "data": {
      "text/plain": [
       "1"
      ]
     },
     "metadata": {},
     "execution_count": 99
    }
   ],
   "source": [
    "wiki.count('be used')"
   ]
  },
  {
   "cell_type": "code",
   "execution_count": null,
   "metadata": {},
   "outputs": [],
   "source": []
  }
 ]
}