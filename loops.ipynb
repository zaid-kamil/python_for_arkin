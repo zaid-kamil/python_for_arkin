{
 "metadata": {
  "language_info": {
   "codemirror_mode": {
    "name": "ipython",
    "version": 3
   },
   "file_extension": ".py",
   "mimetype": "text/x-python",
   "name": "python",
   "nbconvert_exporter": "python",
   "pygments_lexer": "ipython3",
   "version": "3.8.3-final"
  },
  "orig_nbformat": 2,
  "kernelspec": {
   "name": "Python 3.8.3 64-bit",
   "display_name": "Python 3.8.3 64-bit",
   "metadata": {
    "interpreter": {
     "hash": "9ad268fd485861c22c359044ed3ddbe8fb481338325f6875a93294b1083849ba"
    }
   }
  }
 },
 "nbformat": 4,
 "nbformat_minor": 2,
 "cells": [
  {
   "cell_type": "code",
   "execution_count": 1,
   "metadata": {},
   "outputs": [],
   "source": [
    "author = \"Brandon Sanderson\""
   ]
  },
  {
   "cell_type": "code",
   "execution_count": 2,
   "metadata": {},
   "outputs": [
    {
     "output_type": "execute_result",
     "data": {
      "text/plain": "17"
     },
     "metadata": {},
     "execution_count": 2
    }
   ],
   "source": [
    "len(author)"
   ]
  },
  {
   "cell_type": "code",
   "execution_count": 19,
   "metadata": {
    "tags": []
   },
   "outputs": [
    {
     "output_type": "stream",
     "name": "stdout",
     "text": "B | R | A | N | D | O | N |   | S | A | N | D | E | R | S | O | N | "
    }
   ],
   "source": [
    "for char in author:\n",
    "    print(char.upper(),end=' | ')"
   ]
  },
  {
   "cell_type": "code",
   "execution_count": 4,
   "metadata": {
    "tags": []
   },
   "outputs": [
    {
     "output_type": "stream",
     "name": "stdout",
     "text": "Nice to see you alex\nNice to see you alena\nNice to see you hari\nNice to see you ravi\nNice to see you ray\nNice to see you sam\nNice to see you ajay\nNice to see you max\n"
    }
   ],
   "source": [
    "names = ['alex','alena','hari','ravi','ray','sam','ajay','max']\n",
    "for item in names:\n",
    "    print(f'Nice to see you {item}')"
   ]
  },
  {
   "cell_type": "code",
   "execution_count": 6,
   "metadata": {
    "tags": []
   },
   "outputs": [
    {
     "output_type": "stream",
     "name": "stdout",
     "text": "hi, alex\nhi, alena\nnamaste, hari\nnamaste, ravi\nhi, ray\nhi, sam\nhi, ajay\nhi, max\n"
    }
   ],
   "source": [
    "for item in names:\n",
    "    if 'i' in item:\n",
    "        print(f'namaste, {item}')\n",
    "    else:\n",
    "        print(f\"hi, {item}\")"
   ]
  },
  {
   "cell_type": "code",
   "execution_count": 7,
   "metadata": {
    "tags": []
   },
   "outputs": [
    {
     "output_type": "stream",
     "name": "stdout",
     "text": "1684\n"
    }
   ],
   "source": [
    "x = [89,45,67,123,546,23,34,56,678,23]\n",
    "total = 0\n",
    "for num in x:\n",
    "    total += num\n",
    "print(total)\n",
    "\n",
    "# sum(x)"
   ]
  },
  {
   "cell_type": "code",
   "execution_count": 8,
   "metadata": {
    "tags": []
   },
   "outputs": [
    {
     "output_type": "stream",
     "name": "stdout",
     "text": "168.4\n"
    }
   ],
   "source": [
    "x = [89,45,67,123,546,23,34,56,678,2,1,23]\n",
    "total = 0\n",
    "for num in x:\n",
    "    total += num\n",
    "print(total/len(x))"
   ]
  },
  {
   "cell_type": "code",
   "execution_count": 13,
   "metadata": {
    "tags": []
   },
   "outputs": [
    {
     "output_type": "stream",
     "name": "stdout",
     "text": "0\n1\n2\n3\n4\n5\n6\n7\n8\n9\n"
    }
   ],
   "source": [
    "for i in range(10):\n",
    "    print(i)"
   ]
  },
  {
   "cell_type": "code",
   "execution_count": 17,
   "metadata": {
    "tags": []
   },
   "outputs": [
    {
     "output_type": "stream",
     "name": "stdout",
     "text": "5 6 7 8 9 10 11 12 13 14 15 "
    }
   ],
   "source": [
    "for i in range(5, 16):\n",
    "    print(i, end=' ')"
   ]
  },
  {
   "cell_type": "code",
   "execution_count": null,
   "metadata": {},
   "outputs": [],
   "source": [
    "# WAP to find out the max and min in a list of number\n",
    "# WAP to display only those colors that contain 'r' in their name\n",
    "# WAP to update the dice rolling simulator to display 6 rolls at ones."
   ]
  }
 ]
}