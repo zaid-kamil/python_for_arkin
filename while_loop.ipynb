{
 "metadata": {
  "language_info": {
   "codemirror_mode": {
    "name": "ipython",
    "version": 3
   },
   "file_extension": ".py",
   "mimetype": "text/x-python",
   "name": "python",
   "nbconvert_exporter": "python",
   "pygments_lexer": "ipython3",
   "version": "3.8.3-final"
  },
  "orig_nbformat": 2,
  "kernelspec": {
   "name": "Python 3.8.3 64-bit",
   "display_name": "Python 3.8.3 64-bit",
   "metadata": {
    "interpreter": {
     "hash": "9ad268fd485861c22c359044ed3ddbe8fb481338325f6875a93294b1083849ba"
    }
   }
  }
 },
 "nbformat": 4,
 "nbformat_minor": 2,
 "cells": [
  {
   "source": [
    "```python\n",
    "while condition :\n",
    "    statement\n",
    "    statement\n",
    "    ...\n",
    "```"
   ],
   "cell_type": "markdown",
   "metadata": {}
  },
  {
   "cell_type": "code",
   "execution_count": 5,
   "metadata": {
    "tags": []
   },
   "outputs": [
    {
     "output_type": "stream",
     "name": "stdout",
     "text": "amazing 1\namazing 2\namazing 3\namazing 4\namazing 5\namazing 6\namazing 7\namazing 8\namazing 9\namazing 10\namazing 11\namazing 12\namazing 13\namazing 14\namazing 15\n"
    }
   ],
   "source": [
    "x = 1\n",
    "while x <= 15:\n",
    "    print(\"amazing\",x)\n",
    "    x += 1"
   ]
  },
  {
   "cell_type": "code",
   "execution_count": 7,
   "metadata": {
    "tags": []
   },
   "outputs": [
    {
     "output_type": "stream",
     "name": "stdout",
     "text": "wrong password\nwrong password\ncorrect password\n"
    }
   ],
   "source": [
    "while True:\n",
    "    password = input('enter the password to stop:')\n",
    "    if password == 'open sesame':\n",
    "        print('correct password')\n",
    "        break\n",
    "    else:\n",
    "        print('wrong password')"
   ]
  },
  {
   "source": [
    "### wap to calc the total of all even numbers and all odd numbers from 1 to 1 million then display the sum of all even + odd numbers"
   ],
   "cell_type": "markdown",
   "metadata": {}
  },
  {
   "cell_type": "code",
   "execution_count": 11,
   "metadata": {
    "tags": []
   },
   "outputs": [
    {
     "output_type": "stream",
     "name": "stdout",
     "text": "even total=>250000500000\nodd total=>250000000000\ntotal val of even and odds in a million is 500000500000\n"
    }
   ],
   "source": [
    "evens = 0\n",
    "odds = 0\n",
    "for i in range(1,1000001):\n",
    "    if i % 2 == 0:\n",
    "        evens +=i\n",
    "    else:\n",
    "        odds += i\n",
    "print(f'even total=>{evens}')\n",
    "print(f'odd total=>{odds}')\n",
    "total = evens + odds\n",
    "print(f'total val of even and odds in a million is {total}')"
   ]
  },
  {
   "source": [
    "### wap to find out whether 15 , 17 and 22 are prime or not"
   ],
   "cell_type": "markdown",
   "metadata": {}
  },
  {
   "cell_type": "code",
   "execution_count": 18,
   "metadata": {
    "tags": []
   },
   "outputs": [
    {
     "output_type": "stream",
     "name": "stdout",
     "text": "17 % 2 == 1\n17 % 3 == 2\n17 % 4 == 1\n17 % 5 == 2\n17 % 6 == 5\n17 % 7 == 3\n17 % 8 == 1\n17 % 9 == 8\n17 % 10 == 7\n17 % 11 == 6\n17 % 12 == 5\n17 % 13 == 4\n17 % 14 == 3\n17 % 15 == 2\n17 % 16 == 1\n17 is PRIME\n"
    }
   ],
   "source": [
    "x = 17\n",
    "for i in range(2,x):\n",
    "    print(f'{x} % {i} == {x % i}')\n",
    "    if x % i == 0:\n",
    "        print(f'{x} is not a prime')\n",
    "        break\n",
    "else:\n",
    "    print(f'{x} is PRIME')"
   ]
  },
  {
   "source": [
    "### WRITING MULTILINES WITH WHILE"
   ],
   "cell_type": "markdown",
   "metadata": {}
  },
  {
   "cell_type": "code",
   "execution_count": 19,
   "metadata": {
    "tags": []
   },
   "outputs": [
    {
     "output_type": "stream",
     "name": "stdout",
     "text": "--------------------\nonce upon a time, there live a small monkey.then one day the monkey leaves the mountain to become the monkey king.the end\n"
    }
   ],
   "source": [
    "story = ''\n",
    "while True:\n",
    "    line  = input('>>')\n",
    "    if line == 'EOF':\n",
    "        break\n",
    "    story += line\n",
    "print('-'* 20)\n",
    "print(story)"
   ]
  },
  {
   "source": [
    "### wap to reverse a numeric value ex -> 1234 into 4321"
   ],
   "cell_type": "markdown",
   "metadata": {}
  },
  {
   "cell_type": "code",
   "execution_count": 26,
   "metadata": {
    "tags": []
   },
   "outputs": [
    {
     "output_type": "stream",
     "name": "stdout",
     "text": "829173814321\n"
    }
   ],
   "source": [
    "num = 123418371928\n",
    "rev = 0\n",
    "\n",
    "while num > 0:\n",
    "    r = num % 10\n",
    "    rev = rev * 10 + r\n",
    "    num = num // 10\n",
    "print(rev)"
   ]
  },
  {
   "source": [
    "- wap to find out the lcm of any number entered by user\n",
    "- wap to find out the factorial of any number\n",
    "- wap to find out the greatest common divisor\n",
    "- wap to find out the Armstrong number\n",
    "\n",
    "`153` \n",
    "`1**3 + 5**3 + 3**3 == 153 then Armstrong`\n"
   ],
   "cell_type": "markdown",
   "metadata": {}
  },
  {
   "source": [
    " ## wap to find out the lcm of any number entered by user"
   ],
   "cell_type": "markdown",
   "metadata": {}
  },
  {
   "cell_type": "code",
   "execution_count": 7,
   "metadata": {
    "tags": []
   },
   "outputs": [
    {
     "output_type": "stream",
     "name": "stdout",
     "text": "the lcm is 30 for 2,3,5\n"
    }
   ],
   "source": [
    "a = int(input('First Num:'))\n",
    "b = int(input('Second Num:'))\n",
    "c = int(input('Third Num:'))\n",
    "if a > b and a > c: \n",
    "    g = a\n",
    "elif b > a and b > c: \n",
    "    g = b\n",
    "else:\n",
    "    g = c\n",
    "while True:\n",
    "    if g % a == 0 and g % b == 0 and g % c == 0:\n",
    "        lcm = g\n",
    "        break\n",
    "    g+=1\n",
    "print(f'the lcm is {lcm} for {a},{b},{c}')"
   ]
  },
  {
   "source": [
    "## wap to find out the factorial of any number"
   ],
   "cell_type": "markdown",
   "metadata": {}
  },
  {
   "cell_type": "code",
   "execution_count": 10,
   "metadata": {
    "tags": []
   },
   "outputs": [
    {
     "output_type": "stream",
     "name": "stdout",
     "text": "factorial of 10 is 3628800\n"
    }
   ],
   "source": [
    "num = int(input('enter a value:'))\n",
    "fac = 1\n",
    "for i in range(1,num+1):\n",
    "    # print(f'{fac} * {i} => {fac * i}')\n",
    "    fac = fac * i\n",
    "print(f'factorial of {num} is {fac}')"
   ]
  },
  {
   "cell_type": "code",
   "execution_count": 11,
   "metadata": {
    "tags": []
   },
   "outputs": [
    {
     "output_type": "stream",
     "name": "stdout",
     "text": "factorial of 6 is 720\n"
    }
   ],
   "source": [
    "num = int(input('enter a value:'))\n",
    "fac = 1\n",
    "i = 1\n",
    "while i<=num:\n",
    "    fac = fac * i\n",
    "    i += 1\n",
    "print(f'factorial of {num} is {fac}')"
   ]
  },
  {
   "source": [
    "## wap to find out the greatest common divisor"
   ],
   "cell_type": "markdown",
   "metadata": {}
  },
  {
   "cell_type": "code",
   "execution_count": 26,
   "metadata": {
    "tags": []
   },
   "outputs": [
    {
     "output_type": "stream",
     "name": "stdout",
     "text": "a=123/1 and b=23/1 =&gt;True\n1\n"
    }
   ],
   "source": [
    "a = int(input('First Num:'))\n",
    "b = int(input('Second Num:'))\n",
    "if a < b : \n",
    "    sm = a\n",
    "else:\n",
    "    sm = b\n",
    "for i in range(1, sm+1):\n",
    "    if a % i == 0 and b % i == 0:\n",
    "        print(f'a={a}/{i} and b={b}/{i} =>True')\n",
    "        hcf = i\n",
    "\n",
    "print(hcf)"
   ]
  },
  {
   "source": [
    "## wap to find out the Armstrong number\n",
    "`153 1**3 + 5**3 + 3**3 == 153` then Armstrong"
   ],
   "cell_type": "markdown",
   "metadata": {}
  },
  {
   "cell_type": "code",
   "execution_count": 33,
   "metadata": {
    "tags": []
   },
   "outputs": [
    {
     "output_type": "stream",
     "name": "stdout",
     "text": "last=3, total=27 , num=12\nlast=2, total=35 , num=1\nlast=1, total=36 , num=0\n123 == 36\nNot so armstrong\n"
    }
   ],
   "source": [
    "num = int(input('enter any 3 digit number:'))\n",
    "temp = num\n",
    "total = 0\n",
    "while temp > 0:\n",
    "    last = temp % 10\n",
    "    total += last ** 3\n",
    "    temp = temp // 10\n",
    "    print(f'last={last}, total={total} , num={temp}')\n",
    "print(f'{num} == {total}')\n",
    "if num == total:\n",
    "    print('ARMSTRONG')\n",
    "else:\n",
    "    print(\"Not so armstrong\")"
   ]
  },
  {
   "source": [
    "# nested loop"
   ],
   "cell_type": "markdown",
   "metadata": {}
  },
  {
   "cell_type": "code",
   "execution_count": null,
   "metadata": {},
   "outputs": [],
   "source": [
    "for i in range(3):\n",
    "    for j in range(3):\n",
    "        print('hello')"
   ]
  },
  {
   "cell_type": "code",
   "execution_count": 38,
   "metadata": {
    "tags": []
   },
   "outputs": [
    {
     "output_type": "stream",
     "name": "stdout",
     "text": "ARMSTRONG 153\nARMSTRONG 370\nARMSTRONG 371\nARMSTRONG 407\n"
    }
   ],
   "source": [
    "# all the armstrong numbers from 100 to 999\n",
    "\n",
    "for num in range(100, 1000):\n",
    "    temp = num\n",
    "    total = 0\n",
    "    while temp > 0:\n",
    "        last = temp % 10\n",
    "        total += last ** 3\n",
    "        temp = temp // 10\n",
    "        # print(f'last={last}, total={total} , num={temp}')\n",
    "    # print(f'{num} == {total}')\n",
    "    if num == total:\n",
    "        print('ARMSTRONG', num)"
   ]
  },
  {
   "source": [
    "### write a program to check the narcissistic number for the digit entered by user\n",
    "`a narcissistic number in a given number base is a number that is the sum of its own digits each raised to the power of the number of digits`"
   ],
   "cell_type": "markdown",
   "metadata": {}
  },
  {
   "source": [
    "### wap to find out if the number is a happy number or not\n",
    "`a happy number is a number which eventually reaches 1 when replaced by the sum of the square of each digit`"
   ],
   "cell_type": "markdown",
   "metadata": {}
  },
  {
   "cell_type": "code",
   "execution_count": null,
   "metadata": {},
   "outputs": [],
   "source": []
  }
 ]
}