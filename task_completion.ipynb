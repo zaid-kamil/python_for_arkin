{
 "metadata": {
  "language_info": {
   "codemirror_mode": {
    "name": "ipython",
    "version": 3
   },
   "file_extension": ".py",
   "mimetype": "text/x-python",
   "name": "python",
   "nbconvert_exporter": "python",
   "pygments_lexer": "ipython3",
   "version": "3.8.3-final"
  },
  "orig_nbformat": 2,
  "kernelspec": {
   "name": "Python 3.8.3 64-bit",
   "display_name": "Python 3.8.3 64-bit",
   "metadata": {
    "interpreter": {
     "hash": "9ad268fd485861c22c359044ed3ddbe8fb481338325f6875a93294b1083849ba"
    }
   }
  }
 },
 "nbformat": 4,
 "nbformat_minor": 2,
 "cells": [
  {
   "source": [
    "# WAP to find out the max and min in a list of number"
   ],
   "cell_type": "markdown",
   "metadata": {}
  },
  {
   "cell_type": "code",
   "execution_count": 8,
   "metadata": {
    "tags": []
   },
   "outputs": [
    {
     "output_type": "stream",
     "name": "stdout",
     "text": "minimum is 2 & maximum is 234\n"
    }
   ],
   "source": [
    "x = [54,67,13,22,13,12,2,45,67,4,213,5,7,35,23,14,32,234]\n",
    "minimum = 54\n",
    "maximum = 54\n",
    "for i in x:\n",
    "    if minimum > i:\n",
    "        minimum = i\n",
    "    if maximum < i:\n",
    "        maximum = i\n",
    "print(f'minimum is {minimum} & maximum is {maximum}')\n"
   ]
  },
  {
   "cell_type": "code",
   "execution_count": 9,
   "metadata": {
    "tags": []
   },
   "outputs": [
    {
     "output_type": "stream",
     "name": "stdout",
     "text": "234\n2\n"
    }
   ],
   "source": [
    "x = [54,67,13,22,13,12,2,45,67,4,213,5,7,35,23,14,32,234]\n",
    "print(max(x))\n",
    "print(min(x))"
   ]
  },
  {
   "source": [
    "# WAP to display only those colors that contain 'r' in their name"
   ],
   "cell_type": "markdown",
   "metadata": {}
  },
  {
   "cell_type": "code",
   "execution_count": 10,
   "metadata": {
    "tags": []
   },
   "outputs": [
    {
     "output_type": "stream",
     "name": "stdout",
     "text": "red\nskip\npurple\nskip\nskip\n"
    }
   ],
   "source": [
    "size = int(input('enter the number of colors u want to enter: '))\n",
    "for i in range(size):\n",
    "    color = input('Color Name: ')\n",
    "    if 'r' in color :\n",
    "        print(color)\n",
    "    else:\n",
    "        print('skip')"
   ]
  },
  {
   "source": [
    "# WAP to update the dice rolling simulator to display 6 rolls at ones."
   ],
   "cell_type": "markdown",
   "metadata": {}
  },
  {
   "cell_type": "code",
   "execution_count": 14,
   "metadata": {
    "tags": []
   },
   "outputs": [
    {
     "output_type": "stream",
     "name": "stdout",
     "text": "⚂ ⚀ ⚄ ⚄ ⚁ ⚁ "
    }
   ],
   "source": [
    "import random\n",
    "dice = ['⚀','⚁','⚂','⚃','⚄','⚅']\n",
    "for i in range(6):\n",
    "    out = random.choice(dice)\n",
    "    print(out, end=' ')\n"
   ]
  },
  {
   "cell_type": "code",
   "execution_count": null,
   "metadata": {},
   "outputs": [],
   "source": []
  }
 ]
}