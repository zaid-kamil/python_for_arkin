{
 "metadata": {
  "language_info": {
   "codemirror_mode": {
    "name": "ipython",
    "version": 3
   },
   "file_extension": ".py",
   "mimetype": "text/x-python",
   "name": "python",
   "nbconvert_exporter": "python",
   "pygments_lexer": "ipython3",
   "version": "3.8.3-final"
  },
  "orig_nbformat": 2,
  "kernelspec": {
   "name": "Python 3.8.3 64-bit",
   "display_name": "Python 3.8.3 64-bit",
   "metadata": {
    "interpreter": {
     "hash": "9ad268fd485861c22c359044ed3ddbe8fb481338325f6875a93294b1083849ba"
    }
   }
  }
 },
 "nbformat": 4,
 "nbformat_minor": 2,
 "cells": [
  {
   "source": [
    "- properties of the list datastructure\n",
    "    - item in lists are indexed\n",
    "    - lists are ordered\n",
    "    - mixed (heterogenous) values\n",
    "        - ex `[1,2,3,'a','b',True]` \n",
    "    - lists are mutable (we can add or remove values after creation) \n",
    "    - list is represented by `[ ]`\n",
    "    - `list()` is used to convert other datastructure into list"
   ],
   "cell_type": "markdown",
   "metadata": {}
  },
  {
   "source": [
    "# what are u going to learn\n",
    "- creating list\n",
    "- indexing and slicing\n",
    "- looping\n",
    "- function\n"
   ],
   "cell_type": "markdown",
   "metadata": {}
  },
  {
   "source": [
    "### creation"
   ],
   "cell_type": "markdown",
   "metadata": {}
  },
  {
   "cell_type": "code",
   "execution_count": 1,
   "metadata": {},
   "outputs": [],
   "source": [
    "x = [1,2,3,4]\n",
    "y = ['apple','apricont','avocado']\n",
    "z = [1.3, 4.5, 2.4, 4.5, 1.3, .3]\n",
    "a = [] # empty list\n",
    "b = ['apple', 100,'banana',200,'cherry',500]    # mixed string and number\n",
    "c = [True, True, True, False, True, False]      # boolean\n",
    "d = [[1,2,3],[4,5,6],[7,8,9]] # nested list or multidimensional"
   ]
  },
  {
   "cell_type": "code",
   "execution_count": 3,
   "metadata": {},
   "outputs": [
    {
     "output_type": "execute_result",
     "data": {
      "text/plain": [
       "['apple', 100, 'banana', 200, 'cherry', 500]"
      ]
     },
     "metadata": {},
     "execution_count": 3
    }
   ],
   "source": [
    "b"
   ]
  },
  {
   "cell_type": "code",
   "execution_count": 4,
   "metadata": {},
   "outputs": [
    {
     "output_type": "stream",
     "name": "stdout",
     "text": [
      "[1, 2, 3, 4]\n"
     ]
    }
   ],
   "source": [
    "print(x)"
   ]
  },
  {
   "cell_type": "code",
   "execution_count": 6,
   "metadata": {},
   "outputs": [
    {
     "output_type": "stream",
     "name": "stdout",
     "text": [
      "[[1, 2, 3], [4, 5, 6], [7, 8, 9]]\n"
     ]
    }
   ],
   "source": [
    "print(d)"
   ]
  },
  {
   "cell_type": "code",
   "execution_count": 10,
   "metadata": {},
   "outputs": [
    {
     "output_type": "execute_result",
     "data": {
      "text/plain": [
       "[[1, 2, 3, 4, 1, 2, 3, 31], [1, 2, 312, 31, 23], [123, 2, 12, 31, 23, 123, 12]]"
      ]
     },
     "metadata": {},
     "execution_count": 10
    }
   ],
   "source": [
    "a = [1,2,3,4,1,2,3,31,]\n",
    "b = [1,2,312,31,23]\n",
    "c = [123,2,12,31,23,123,12]\n",
    "\n",
    "e = [a,b,c]\n",
    "e"
   ]
  },
  {
   "cell_type": "code",
   "execution_count": 8,
   "metadata": {},
   "outputs": [],
   "source": [
    "a = 10\n",
    "b = 20\n",
    "c = 30\n",
    "f = [a,b,c,a,b,c,a,b,c]"
   ]
  },
  {
   "cell_type": "code",
   "execution_count": 9,
   "metadata": {},
   "outputs": [
    {
     "output_type": "execute_result",
     "data": {
      "text/plain": [
       "[10, 20, 30, 10, 20, 30, 10, 20, 30]"
      ]
     },
     "metadata": {},
     "execution_count": 9
    }
   ],
   "source": [
    "f"
   ]
  },
  {
   "cell_type": "code",
   "execution_count": 12,
   "metadata": {},
   "outputs": [
    {
     "output_type": "stream",
     "name": "stdout",
     "text": [
      "['L', 'i', 'f', 'e', ' ', 'b', 'e', 'f', 'o', 'r', 'e', ' ', 'd', 'e', 'a', 't', 'h']\n"
     ]
    }
   ],
   "source": [
    "msg = 'Life before death'\n",
    "chars = list(msg)\n",
    "print(chars)"
   ]
  },
  {
   "source": [
    "### indexing and slicing"
   ],
   "cell_type": "markdown",
   "metadata": {}
  },
  {
   "cell_type": "code",
   "execution_count": 14,
   "metadata": {},
   "outputs": [],
   "source": [
    "movies = [  'whiplash',\n",
    "            'delhi belly',\n",
    "            'The Truman Show',\n",
    "            'Inception',\n",
    "            'Tenet']"
   ]
  },
  {
   "cell_type": "code",
   "execution_count": 15,
   "metadata": {},
   "outputs": [
    {
     "output_type": "execute_result",
     "data": {
      "text/plain": [
       "'whiplash'"
      ]
     },
     "metadata": {},
     "execution_count": 15
    }
   ],
   "source": [
    "movies[0]"
   ]
  },
  {
   "cell_type": "code",
   "execution_count": 16,
   "metadata": {},
   "outputs": [
    {
     "output_type": "execute_result",
     "data": {
      "text/plain": [
       "'delhi belly'"
      ]
     },
     "metadata": {},
     "execution_count": 16
    }
   ],
   "source": [
    "movies[1]"
   ]
  },
  {
   "cell_type": "code",
   "execution_count": 17,
   "metadata": {},
   "outputs": [
    {
     "output_type": "execute_result",
     "data": {
      "text/plain": [
       "'Tenet'"
      ]
     },
     "metadata": {},
     "execution_count": 17
    }
   ],
   "source": [
    "movies[-1]"
   ]
  },
  {
   "cell_type": "code",
   "execution_count": 18,
   "metadata": {},
   "outputs": [
    {
     "output_type": "execute_result",
     "data": {
      "text/plain": [
       "'whiplash'"
      ]
     },
     "metadata": {},
     "execution_count": 18
    }
   ],
   "source": [
    "movies[-5]"
   ]
  },
  {
   "cell_type": "code",
   "execution_count": 19,
   "metadata": {},
   "outputs": [],
   "source": [
    "# update the index value\n",
    "movies[1] = 'Harry Potter'"
   ]
  },
  {
   "cell_type": "code",
   "execution_count": 20,
   "metadata": {},
   "outputs": [
    {
     "output_type": "execute_result",
     "data": {
      "text/plain": [
       "['whiplash', 'Harry Potter', 'The Truman Show', 'Inception', 'Tenet']"
      ]
     },
     "metadata": {},
     "execution_count": 20
    }
   ],
   "source": [
    "movies"
   ]
  },
  {
   "cell_type": "code",
   "execution_count": 21,
   "metadata": {},
   "outputs": [],
   "source": [
    "x= [1,2,31,23,12,3,12,3,1,2,3,1,23,1,2,3,1,23,12,3,12,3,12]"
   ]
  },
  {
   "cell_type": "code",
   "execution_count": 22,
   "metadata": {},
   "outputs": [
    {
     "output_type": "execute_result",
     "data": {
      "text/plain": [
       "[1, 2, 31, 23, 12]"
      ]
     },
     "metadata": {},
     "execution_count": 22
    }
   ],
   "source": [
    "x[:5] # first five elements"
   ]
  },
  {
   "cell_type": "code",
   "execution_count": 23,
   "metadata": {},
   "outputs": [
    {
     "output_type": "execute_result",
     "data": {
      "text/plain": [
       "[12, 3, 12, 3, 12]"
      ]
     },
     "metadata": {},
     "execution_count": 23
    }
   ],
   "source": [
    "x[-5:] # last five"
   ]
  },
  {
   "cell_type": "code",
   "execution_count": 24,
   "metadata": {},
   "outputs": [
    {
     "output_type": "execute_result",
     "data": {
      "text/plain": [
       "[23, 12, 3, 12, 3, 1, 2, 3, 1, 23, 1, 2, 3, 1, 23, 12, 3]"
      ]
     },
     "metadata": {},
     "execution_count": 24
    }
   ],
   "source": [
    "x[3 : -3]# all except first 3 & last 3"
   ]
  },
  {
   "cell_type": "code",
   "execution_count": 25,
   "metadata": {},
   "outputs": [
    {
     "output_type": "execute_result",
     "data": {
      "text/plain": [
       "[12, 3, 12, 3, 12, 23, 1, 3, 2, 1, 23, 1, 3, 2, 1, 3, 12, 3, 12, 23, 31, 2, 1]"
      ]
     },
     "metadata": {},
     "execution_count": 25
    }
   ],
   "source": [
    "x[::-1] # reverse the whole list"
   ]
  },
  {
   "cell_type": "code",
   "execution_count": 26,
   "metadata": {},
   "outputs": [
    {
     "output_type": "execute_result",
     "data": {
      "text/plain": [
       "[1, 31, 12, 12, 1, 3, 23, 2, 1, 12, 12, 12]"
      ]
     },
     "metadata": {},
     "execution_count": 26
    }
   ],
   "source": [
    "x[::2]# even index value"
   ]
  },
  {
   "source": [
    "# loops\n",
    "- looping a list \n",
    "- looping nested list\n",
    "- looping mulitple list\n",
    "- looping list with index "
   ],
   "cell_type": "markdown",
   "metadata": {}
  },
  {
   "cell_type": "code",
   "execution_count": 27,
   "metadata": {},
   "outputs": [
    {
     "output_type": "stream",
     "name": "stdout",
     "text": [
      "1 2 31 23 12 3 12 3 1 2 3 1 23 1 2 3 1 23 12 3 12 3 12 "
     ]
    }
   ],
   "source": [
    "for i in x:\n",
    "    print(i,end=' ')"
   ]
  },
  {
   "cell_type": "code",
   "execution_count": 28,
   "metadata": {},
   "outputs": [
    {
     "output_type": "stream",
     "name": "stdout",
     "text": [
      "12 3 12 3 12 23 1 3 2 1 23 1 3 2 1 3 12 3 12 23 31 2 1 "
     ]
    }
   ],
   "source": [
    "# reversed list in loop\n",
    "for i in x[::-1]:\n",
    "    print(i,end=' ')"
   ]
  },
  {
   "cell_type": "code",
   "execution_count": 29,
   "metadata": {},
   "outputs": [
    {
     "output_type": "stream",
     "name": "stdout",
     "text": [
      "1 2 31 23 12 3 12 3 1 2 "
     ]
    }
   ],
   "source": [
    "# reading only the first 10 items\n",
    "for i in x[:10]:\n",
    "    print(i, end=' ')"
   ]
  },
  {
   "cell_type": "code",
   "execution_count": 30,
   "metadata": {},
   "outputs": [
    {
     "output_type": "stream",
     "name": "stdout",
     "text": [
      "[1, 2, 3]\n[4, 5, 6]\n[7, 8, 9]\n"
     ]
    }
   ],
   "source": [
    "# 2d list \n",
    "for item in d:\n",
    "    print(item)"
   ]
  },
  {
   "cell_type": "code",
   "execution_count": 31,
   "metadata": {},
   "outputs": [
    {
     "output_type": "stream",
     "name": "stdout",
     "text": [
      "1 2 3 4 5 6 7 8 9 "
     ]
    }
   ],
   "source": [
    "# printing all values seperately in  2d list \n",
    "for item in d:\n",
    "    for i in item:\n",
    "        print(i, end=' ')"
   ]
  },
  {
   "cell_type": "code",
   "execution_count": 32,
   "metadata": {},
   "outputs": [
    {
     "output_type": "stream",
     "name": "stdout",
     "text": [
      "1 4\n2 1\n3 2\n4 2\n5 4\n"
     ]
    }
   ],
   "source": [
    "# 2 list in a single loop\n",
    "f1 = [1,2,3,4,5]\n",
    "f2 = [4,1,2,2,4]\n",
    "\n",
    "for i,j in zip(f1,f2):\n",
    "    print(i,j)"
   ]
  },
  {
   "cell_type": "code",
   "execution_count": 34,
   "metadata": {},
   "outputs": [
    {
     "output_type": "stream",
     "name": "stdout",
     "text": [
      "12 4\n123 54\n123 4\n12 31\n"
     ]
    }
   ],
   "source": [
    "a = [12,123,123,12]\n",
    "b = [4,54,4,31,2,23,2312]\n",
    "for v1,v2 in zip(a,b):\n",
    "    print(v1,v2)"
   ]
  },
  {
   "cell_type": "code",
   "execution_count": 35,
   "metadata": {},
   "outputs": [
    {
     "output_type": "stream",
     "name": "stdout",
     "text": [
      "139\n179\n139\n74\n"
     ]
    }
   ],
   "source": [
    "for v1,v2,v3 in zip(a,b,c):\n",
    "    print(v1+v2+v3)"
   ]
  },
  {
   "cell_type": "code",
   "execution_count": 39,
   "metadata": {},
   "outputs": [
    {
     "output_type": "stream",
     "name": "stdout",
     "text": [
      "(0, 1),(1, 2),(2, 31),(3, 23),(4, 12),(5, 3),(6, 12),(7, 3),(8, 1),(9, 2),(10, 3),(11, 1),(12, 23),(13, 1),(14, 2),(15, 3),(16, 1),(17, 23),(18, 12),(19, 3),(20, 12),(21, 3),(22, 12),"
     ]
    }
   ],
   "source": [
    "for i in enumerate(x):\n",
    "    print(i, end=',')"
   ]
  },
  {
   "cell_type": "code",
   "execution_count": 41,
   "metadata": {},
   "outputs": [
    {
     "output_type": "stream",
     "name": "stdout",
     "text": [
      "1\n2\n31\n23\n12\n3\n12\n"
     ]
    }
   ],
   "source": [
    "for idx, val in enumerate(x):\n",
    "    if idx == 7:\n",
    "        break\n",
    "    print(val)"
   ]
  },
  {
   "source": [
    "# list Functions\n",
    "- adding items to list\n",
    "    - append\n",
    "    - insert\n",
    "    - extend\n",
    "- removing items from list\n",
    "    - pop\n",
    "    - remove\n",
    "    - clear\n",
    "- utilties\n",
    "    - count\n",
    "    - index\n",
    "    - reverse\n",
    "    - sort\n",
    "    - copy"
   ],
   "cell_type": "markdown",
   "metadata": {}
  },
  {
   "cell_type": "code",
   "execution_count": 1,
   "metadata": {},
   "outputs": [],
   "source": [
    "names= ['roger','samuel']"
   ]
  },
  {
   "cell_type": "code",
   "execution_count": 2,
   "metadata": {},
   "outputs": [],
   "source": [
    "names.append('patrick')"
   ]
  },
  {
   "cell_type": "code",
   "execution_count": 3,
   "metadata": {},
   "outputs": [],
   "source": [
    "names.append('bob')"
   ]
  },
  {
   "cell_type": "code",
   "execution_count": 4,
   "metadata": {},
   "outputs": [],
   "source": [
    "names.append('maximus')"
   ]
  },
  {
   "cell_type": "code",
   "execution_count": 5,
   "metadata": {},
   "outputs": [],
   "source": [
    "names.append(100)"
   ]
  },
  {
   "cell_type": "code",
   "execution_count": 6,
   "metadata": {},
   "outputs": [],
   "source": [
    "names.append(['a','b','c']) "
   ]
  },
  {
   "cell_type": "code",
   "execution_count": 7,
   "metadata": {},
   "outputs": [
    {
     "output_type": "execute_result",
     "data": {
      "text/plain": [
       "['roger', 'samuel', 'patrick', 'bob', 'maximus', 100, ['a', 'b', 'c']]"
      ]
     },
     "metadata": {},
     "execution_count": 7
    }
   ],
   "source": [
    "names"
   ]
  },
  {
   "cell_type": "code",
   "execution_count": 8,
   "metadata": {},
   "outputs": [
    {
     "output_type": "stream",
     "name": "stdout",
     "text": [
      "['kaladin', 'kelsier', 'vin', 'elend', 'dalinar']\n"
     ]
    }
   ],
   "source": [
    "heroes = []\n",
    "for i in range(5):\n",
    "    hero = input('enter ur fav hero:')\n",
    "    heroes.append(hero)\n",
    "print(heroes)"
   ]
  },
  {
   "cell_type": "code",
   "execution_count": 9,
   "metadata": {},
   "outputs": [
    {
     "output_type": "execute_result",
     "data": {
      "text/plain": [
       "['roger', 'samuel', 'patrick', 'bob', 'maximus', 100, ['a', 'b', 'c']]"
      ]
     },
     "metadata": {},
     "execution_count": 9
    }
   ],
   "source": [
    "names"
   ]
  },
  {
   "cell_type": "code",
   "execution_count": 10,
   "metadata": {},
   "outputs": [],
   "source": [
    "names.insert(1,'arkin')"
   ]
  },
  {
   "cell_type": "code",
   "execution_count": 11,
   "metadata": {},
   "outputs": [
    {
     "output_type": "execute_result",
     "data": {
      "text/plain": [
       "['roger', 'arkin', 'samuel', 'patrick', 'bob', 'maximus', 100, ['a', 'b', 'c']]"
      ]
     },
     "metadata": {},
     "execution_count": 11
    }
   ],
   "source": [
    "names"
   ]
  },
  {
   "cell_type": "code",
   "execution_count": 12,
   "metadata": {},
   "outputs": [],
   "source": [
    "x= [1,2,3,4]\n",
    "y =[6,7,8]"
   ]
  },
  {
   "cell_type": "code",
   "execution_count": 13,
   "metadata": {},
   "outputs": [
    {
     "output_type": "execute_result",
     "data": {
      "text/plain": [
       "[1, 2, 3, 4, 6, 7, 8]"
      ]
     },
     "metadata": {},
     "execution_count": 13
    }
   ],
   "source": [
    "x.extend(y)\n",
    "x"
   ]
  },
  {
   "cell_type": "code",
   "execution_count": 14,
   "metadata": {},
   "outputs": [
    {
     "output_type": "execute_result",
     "data": {
      "text/plain": [
       "[1, 2, 3, 4, 6, 7, 8]"
      ]
     },
     "metadata": {},
     "execution_count": 14
    }
   ],
   "source": [
    "x"
   ]
  },
  {
   "cell_type": "code",
   "execution_count": 15,
   "metadata": {},
   "outputs": [
    {
     "output_type": "execute_result",
     "data": {
      "text/plain": [
       "['roger', 'arkin', 'samuel', 'patrick', 'bob', 'maximus', 100, ['a', 'b', 'c']]"
      ]
     },
     "metadata": {},
     "execution_count": 15
    }
   ],
   "source": [
    "names"
   ]
  },
  {
   "cell_type": "code",
   "execution_count": 16,
   "metadata": {},
   "outputs": [
    {
     "output_type": "execute_result",
     "data": {
      "text/plain": [
       "['a', 'b', 'c']"
      ]
     },
     "metadata": {},
     "execution_count": 16
    }
   ],
   "source": [
    "names.pop()"
   ]
  },
  {
   "cell_type": "code",
   "execution_count": 18,
   "metadata": {},
   "outputs": [
    {
     "output_type": "execute_result",
     "data": {
      "text/plain": [
       "100"
      ]
     },
     "metadata": {},
     "execution_count": 18
    }
   ],
   "source": [
    "names.pop()"
   ]
  },
  {
   "cell_type": "code",
   "execution_count": 19,
   "metadata": {},
   "outputs": [
    {
     "output_type": "execute_result",
     "data": {
      "text/plain": [
       "'samuel'"
      ]
     },
     "metadata": {},
     "execution_count": 19
    }
   ],
   "source": [
    "names.pop(2) # 2 is an index value"
   ]
  },
  {
   "cell_type": "code",
   "execution_count": 20,
   "metadata": {},
   "outputs": [],
   "source": [
    "names.remove('bob')"
   ]
  },
  {
   "cell_type": "code",
   "execution_count": 21,
   "metadata": {},
   "outputs": [
    {
     "output_type": "execute_result",
     "data": {
      "text/plain": [
       "['roger', 'arkin', 'patrick', 'maximus']"
      ]
     },
     "metadata": {},
     "execution_count": 21
    }
   ],
   "source": [
    "names"
   ]
  },
  {
   "cell_type": "code",
   "execution_count": 22,
   "metadata": {},
   "outputs": [],
   "source": [
    "a = [1,2,2,1,23,34,54,6,7,8,]"
   ]
  },
  {
   "cell_type": "code",
   "execution_count": 23,
   "metadata": {},
   "outputs": [],
   "source": [
    "a.remove(23) # 23 is a value of element"
   ]
  },
  {
   "cell_type": "code",
   "execution_count": 25,
   "metadata": {},
   "outputs": [],
   "source": [
    "a.remove(1) # 1 is a value"
   ]
  },
  {
   "cell_type": "code",
   "execution_count": 26,
   "metadata": {},
   "outputs": [
    {
     "output_type": "execute_result",
     "data": {
      "text/plain": [
       "[2, 2, 1, 34, 54, 6, 7, 8]"
      ]
     },
     "metadata": {},
     "execution_count": 26
    }
   ],
   "source": [
    "a"
   ]
  },
  {
   "cell_type": "code",
   "execution_count": 28,
   "metadata": {},
   "outputs": [],
   "source": [
    "if 100 in a:\n",
    "    a.remove(100)"
   ]
  },
  {
   "cell_type": "code",
   "execution_count": 30,
   "metadata": {},
   "outputs": [],
   "source": [
    "if 'john' in names:\n",
    "    names.remove('john')"
   ]
  },
  {
   "cell_type": "code",
   "execution_count": 31,
   "metadata": {},
   "outputs": [],
   "source": [
    "a.clear()"
   ]
  },
  {
   "cell_type": "code",
   "execution_count": 32,
   "metadata": {},
   "outputs": [],
   "source": [
    "# wap to add 5 numbers to a list and display their sum. numbers should be entered by user input"
   ]
  },
  {
   "cell_type": "code",
   "execution_count": 33,
   "metadata": {},
   "outputs": [
    {
     "output_type": "execute_result",
     "data": {
      "text/plain": [
       "14"
      ]
     },
     "metadata": {},
     "execution_count": 33
    }
   ],
   "source": [
    "a = [1,2,1,2,1,2,1,2,2,2,2,1,2,1,2,1,1,2,1,2,1,2,1,2,1,2,1,2,1,2]\n",
    "a.count(1) # 1 is a element of list a"
   ]
  },
  {
   "cell_type": "code",
   "execution_count": 34,
   "metadata": {},
   "outputs": [
    {
     "output_type": "execute_result",
     "data": {
      "text/plain": [
       "16"
      ]
     },
     "metadata": {},
     "execution_count": 34
    }
   ],
   "source": [
    "a.count(2)"
   ]
  },
  {
   "cell_type": "code",
   "execution_count": 35,
   "metadata": {},
   "outputs": [
    {
     "output_type": "execute_result",
     "data": {
      "text/plain": [
       "0"
      ]
     },
     "metadata": {},
     "execution_count": 35
    }
   ],
   "source": [
    "a.count(12)"
   ]
  },
  {
   "cell_type": "code",
   "execution_count": 36,
   "metadata": {},
   "outputs": [
    {
     "output_type": "stream",
     "name": "stdout",
     "text": [
      "Give me all the 2's\n"
     ]
    }
   ],
   "source": [
    "ones_count = a.count(1)\n",
    "twos_count = a.count(2)\n",
    "if ones_count > twos_count:\n",
    "    print(\"we will have 1's \")\n",
    "else:\n",
    "    print(\"Give me all the 2's\")"
   ]
  },
  {
   "cell_type": "code",
   "execution_count": 39,
   "metadata": {},
   "outputs": [
    {
     "output_type": "execute_result",
     "data": {
      "text/plain": [
       "0"
      ]
     },
     "metadata": {},
     "execution_count": 39
    }
   ],
   "source": [
    "names.index('roger')"
   ]
  },
  {
   "cell_type": "code",
   "execution_count": 40,
   "metadata": {},
   "outputs": [
    {
     "output_type": "execute_result",
     "data": {
      "text/plain": [
       "1"
      ]
     },
     "metadata": {},
     "execution_count": 40
    }
   ],
   "source": [
    "names.index('arkin')"
   ]
  },
  {
   "cell_type": "code",
   "execution_count": 42,
   "metadata": {},
   "outputs": [],
   "source": [
    "a.sort()"
   ]
  },
  {
   "cell_type": "code",
   "execution_count": 44,
   "metadata": {},
   "outputs": [],
   "source": [
    "names.sort()"
   ]
  },
  {
   "cell_type": "code",
   "execution_count": 46,
   "metadata": {},
   "outputs": [
    {
     "output_type": "execute_result",
     "data": {
      "text/plain": [
       "['roger', 'patrick', 'maximus', 'arkin']"
      ]
     },
     "metadata": {},
     "execution_count": 46
    }
   ],
   "source": [
    "names.sort(reverse=True)\n",
    "names"
   ]
  },
  {
   "cell_type": "code",
   "execution_count": 47,
   "metadata": {},
   "outputs": [],
   "source": [
    "names.reverse()"
   ]
  },
  {
   "cell_type": "code",
   "execution_count": 48,
   "metadata": {},
   "outputs": [
    {
     "output_type": "execute_result",
     "data": {
      "text/plain": [
       "['arkin', 'maximus', 'patrick', 'roger']"
      ]
     },
     "metadata": {},
     "execution_count": 48
    }
   ],
   "source": [
    "names"
   ]
  },
  {
   "cell_type": "code",
   "execution_count": 49,
   "metadata": {},
   "outputs": [
    {
     "output_type": "execute_result",
     "data": {
      "text/plain": [
       "[66, 55, 44, 33, 22, 11, 22, 11, 44, 33, 22, 11, 33, 22, 11]"
      ]
     },
     "metadata": {},
     "execution_count": 49
    }
   ],
   "source": [
    "x = [11,22,33,11,22,33,44,11,22,11,22,33,44,55,66]\n",
    "x.reverse()\n",
    "x"
   ]
  },
  {
   "cell_type": "code",
   "execution_count": 51,
   "metadata": {},
   "outputs": [
    {
     "output_type": "stream",
     "name": "stdout",
     "text": [
      "0 arkin\n1 maximus\n2 patrick\n3 roger\n"
     ]
    }
   ],
   "source": [
    "for idx,i in enumerate(names):\n",
    "    print(idx, i)"
   ]
  },
  {
   "cell_type": "code",
   "execution_count": 52,
   "metadata": {},
   "outputs": [],
   "source": [
    "x =15\n",
    "y = x"
   ]
  },
  {
   "cell_type": "code",
   "execution_count": 53,
   "metadata": {},
   "outputs": [
    {
     "output_type": "stream",
     "name": "stdout",
     "text": [
      "15 15\n"
     ]
    }
   ],
   "source": [
    "print(x,y)"
   ]
  },
  {
   "source": [
    "# Task till tuesday ->\n",
    "- Given a Python list. Turn every item of a list into its square\n",
    "`x= [1, 2, 3, 4, 5, 6, 7]`"
   ],
   "cell_type": "markdown",
   "metadata": {}
  },
  {
   "source": [
    "- Concatenate two lists in the following order\n",
    "```\n",
    "list1 = [\"Hello \", \"take \"]\n",
    "list2 = [\"Dear\", \"Sir\"]\n",
    "\n",
    "expected output: \n",
    "\n",
    "['Hello Dear', 'Hello Sir', 'take Dear', 'take Sir']\n",
    "```"
   ],
   "cell_type": "markdown",
   "metadata": {}
  },
  {
   "source": [
    "- Remove empty strings from the list of strings\n",
    "\n",
    "`list1 = [\"Mike\", \"\", \"Emma\", \"Kelly\", \"\", \"Brad\"]`"
   ],
   "cell_type": "markdown",
   "metadata": {}
  },
  {
   "source": [
    "- Add item 7000 after 6000 in the following Python List\n",
    "```\n",
    "list1 = [10, 20, [300, 400, [5000, 6000], 500], 30, 40]\n",
    "\n",
    "Expected output:\n",
    "\n",
    "[10, 20, [300, 400, [5000, 6000, 7000], 500], 30, 40]\n",
    "```"
   ],
   "cell_type": "markdown",
   "metadata": {}
  },
  {
   "source": [
    "- Given a Python list, remove all occurrence of 20 from the list\n",
    "\n",
    "`list1 = [5, 20, 15, 20, 25, 50, 20]`"
   ],
   "cell_type": "markdown",
   "metadata": {}
  },
  {
   "source": [
    "-  Given a Python list, find value 20 in the list, and if it is present, replace it with 200.\n",
    "\n",
    "`list1 = [5, 20, 15, 20, 25, 50, 20]`"
   ],
   "cell_type": "markdown",
   "metadata": {}
  },
  {
   "cell_type": "code",
   "execution_count": null,
   "metadata": {},
   "outputs": [],
   "source": []
  }
 ]
}